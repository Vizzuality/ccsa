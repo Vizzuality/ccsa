{
 "cells": [
  {
   "attachments": {},
   "cell_type": "markdown",
   "metadata": {
    "collapsed": false
   },
   "source": [
    "# Parse Projects `xlsx`"
   ]
  },
  {
   "cell_type": "code",
   "metadata": {
    "collapsed": false,
    "ExecuteTime": {
     "end_time": "2024-04-24T07:52:56.305843Z",
     "start_time": "2024-04-24T07:52:56.169851Z"
    }
   },
   "source": [
    "import json\n",
    "\n",
    "import dotenv\n",
    "import polars as pl\n",
    "from utils import get_ids\n",
    "\n",
    "dotenv.load_dotenv(\"../../.env\")"
   ],
   "outputs": [
    {
     "data": {
      "text/plain": [
       "True"
      ]
     },
     "execution_count": 1,
     "metadata": {},
     "output_type": "execute_result"
    }
   ],
   "execution_count": 1
  },
  {
   "cell_type": "code",
   "metadata": {
    "collapsed": false,
    "ExecuteTime": {
     "end_time": "2024-04-24T07:52:56.334513Z",
     "start_time": "2024-04-24T07:52:56.306895Z"
    }
   },
   "source": [
    "df = pl.read_excel(\"../data/phase2/projects_clean.xlsx\")\n",
    "# parse money\n",
    "# df = df.with_columns(\n",
    "#     pl.col(\"Project Value\").str.strip_prefix(\"$\").str.replace_all(\",\", \"\").cast(pl.Float32)\n",
    "# )\n",
    "df.head()"
   ],
   "outputs": [
    {
     "data": {
      "text/plain": [
       "shape: (5, 12)\n",
       "┌────────────┬────────────┬────────────┬────────────┬───┬───────────┬───────────┬───────────┬──────┐\n",
       "│ ​Project    ┆ ​Project    ┆ ​Project    ┆ Objective  ┆ … ┆ SDGs      ┆ ​CCSA      ┆ Organizat ┆ More │\n",
       "│ Name\t       ┆ Descriptio ┆ Status     ┆ ---        ┆   ┆ ---       ┆ Pillar    ┆ ion Type  ┆ Info │\n",
       "│ ---        ┆ n          ┆ ---        ┆ str        ┆   ┆ str       ┆ ---       ┆ ---       ┆ ---  │\n",
       "│ str        ┆ ---        ┆ str        ┆            ┆   ┆           ┆ str       ┆ str       ┆ str  │\n",
       "│            ┆ str        ┆            ┆            ┆   ┆           ┆           ┆           ┆      │\n",
       "╞════════════╪════════════╪════════════╪════════════╪═══╪═══════════╪═══════════╪═══════════╪══════╡\n",
       "│ Drinking   ┆ Water dist ┆ In         ┆ This       ┆ … ┆ SDG 12 -  ┆ 1.5% New  ┆ For-profi ┆ null │\n",
       "│ Water at   ┆ ribution   ┆ Execution  ┆ project    ┆   ┆ Responsib ┆ Green     ┆ t         ┆      │\n",
       "│ UHWI       ┆ in Jamaica ┆            ┆ has been   ┆   ┆ le produc ┆ Jobs for  ┆           ┆      │\n",
       "│            ┆ is…        ┆            ┆ delivered  ┆   ┆ tion …    ┆ Physical… ┆           ┆      │\n",
       "│ Phase 1:   ┆ Caribbean  ┆ Completed  ┆ This       ┆ … ┆ SDG 7 -   ┆ 90%       ┆ For-profi ┆ null │\n",
       "│ Solar      ┆ nations    ┆            ┆ project    ┆   ┆ Affordabl ┆ Renewable ┆ t         ┆      │\n",
       "│ Panel      ┆ need to    ┆            ┆ has been   ┆   ┆ e and     ┆ Energy    ┆           ┆      │\n",
       "│ Assembly   ┆ instal…    ┆            ┆ delivered  ┆   ┆ clean     ┆ for All   ┆           ┆      │\n",
       "│            ┆            ┆            ┆            ┆   ┆ ene…      ┆           ┆           ┆      │\n",
       "│ Electric   ┆ This       ┆ Start-up   ┆ Project is ┆ … ┆ SDG 7 -   ┆ 90%       ┆ For-profi ┆ null │\n",
       "│ Urban      ┆ project    ┆ to Early   ┆ being      ┆   ┆ Affordabl ┆ Renewable ┆ t         ┆      │\n",
       "│ Tours      ┆ pioneers   ┆ Stage      ┆ shared to  ┆   ┆ e and     ┆ Energy    ┆           ┆      │\n",
       "│            ┆ electric   ┆            ┆ achie…     ┆   ┆ clean     ┆ for All   ┆           ┆      │\n",
       "│            ┆ u…         ┆            ┆            ┆   ┆ ene…      ┆           ┆           ┆      │\n",
       "│ Phase 2:   ┆ A regional ┆ Start-up   ┆ Incubation ┆ … ┆ SDG 7 -   ┆ 90%       ┆ For-profi ┆ null │\n",
       "│ Build      ┆ blended    ┆ to Early   ┆            ┆   ┆ Affordabl ┆ Renewable ┆ t         ┆      │\n",
       "│ Caribbean  ┆ financial  ┆ Stage      ┆            ┆   ┆ e and     ┆ Energy    ┆           ┆      │\n",
       "│ Blended…   ┆ fun…       ┆            ┆            ┆   ┆ clean     ┆ for All   ┆           ┆      │\n",
       "│            ┆            ┆            ┆            ┆   ┆ ene…      ┆           ┆           ┆      │\n",
       "│ Regenerati ┆ The        ┆ In         ┆ This       ┆ … ┆ SDG 13 -  ┆ 30 x 30   ┆ Nonprofit ┆ null │\n",
       "│ ng the     ┆ objective  ┆ Execution  ┆ project    ┆   ┆ Climate   ┆ Nature    ┆           ┆      │\n",
       "│ Blue       ┆ is to      ┆            ┆ has been   ┆   ┆ Action;   ┆ Based     ┆           ┆      │\n",
       "│ Forests    ┆ build a    ┆            ┆ delivered  ┆   ┆ SDG 14 …  ┆ Solutions ┆           ┆      │\n",
       "│ of…        ┆ comm…      ┆            ┆            ┆   ┆           ┆           ┆           ┆      │\n",
       "└────────────┴────────────┴────────────┴────────────┴───┴───────────┴───────────┴───────────┴──────┘"
      ],
      "text/html": [
       "<div><style>\n",
       ".dataframe > thead > tr,\n",
       ".dataframe > tbody > tr {\n",
       "  text-align: right;\n",
       "  white-space: pre-wrap;\n",
       "}\n",
       "</style>\n",
       "<small>shape: (5, 12)</small><table border=\"1\" class=\"dataframe\"><thead><tr><th>​Project Name\t</th><th>​Project Description </th><th>​Project Status</th><th>Objective</th><th>Project Value</th><th>Project Needs</th><th>Operates in</th><th>Source Country</th><th>SDGs</th><th>​CCSA Pillar</th><th>Organization Type</th><th>More Info</th></tr><tr><td>str</td><td>str</td><td>str</td><td>str</td><td>f64</td><td>str</td><td>str</td><td>str</td><td>str</td><td>str</td><td>str</td><td>str</td></tr></thead><tbody><tr><td>&quot;Drinking Water…</td><td>&quot;Water distribu…</td><td>&quot;In Execution&quot;</td><td>&quot;This project h…</td><td>120000.0</td><td>&quot;Grant Catalyti…</td><td>&quot;Jamaica&quot;</td><td>&quot;The United Sta…</td><td>&quot;SDG 12 - Respo…</td><td>&quot;1.5% New Green…</td><td>&quot;For-profit&quot;</td><td>null</td></tr><tr><td>&quot;Phase 1: Solar…</td><td>&quot;Caribbean nati…</td><td>&quot;Completed&quot;</td><td>&quot;This project h…</td><td>50000.0</td><td>&quot;Grant Catalyti…</td><td>&quot;Regional; Trin…</td><td>&quot;Trinidad &amp; Tob…</td><td>&quot;SDG 7 - Afford…</td><td>&quot;90% Renewable …</td><td>&quot;For-profit&quot;</td><td>null</td></tr><tr><td>&quot;Electric Urban…</td><td>&quot;This project p…</td><td>&quot;Start-up to Ea…</td><td>&quot;Project is bei…</td><td>555000.0</td><td>&quot;Equity&quot;</td><td>&quot;Belize&quot;</td><td>&quot;Belize&quot;</td><td>&quot;SDG 7 - Afford…</td><td>&quot;90% Renewable …</td><td>&quot;For-profit&quot;</td><td>null</td></tr><tr><td>&quot;Phase 2: Build…</td><td>&quot;A regional ble…</td><td>&quot;Start-up to Ea…</td><td>&quot;Incubation&quot;</td><td>2.18e8</td><td>&quot;Other&quot;</td><td>&quot;Anguilla; Anti…</td><td>&quot;Barbados&quot;</td><td>&quot;SDG 7 - Afford…</td><td>&quot;90% Renewable …</td><td>&quot;For-profit&quot;</td><td>null</td></tr><tr><td>&quot;Regenerating t…</td><td>&quot;The objective …</td><td>&quot;In Execution&quot;</td><td>&quot;This project h…</td><td>50000.0</td><td>&quot;Grant Pre-Inve…</td><td>&quot;Antigua and Ba…</td><td>&quot;Europe&quot;</td><td>&quot;SDG 13 - Clima…</td><td>&quot;30 x 30 Nature…</td><td>&quot;Nonprofit&quot;</td><td>null</td></tr></tbody></table></div>"
      ]
     },
     "execution_count": 2,
     "metadata": {},
     "output_type": "execute_result"
    }
   ],
   "execution_count": 2
  },
  {
   "cell_type": "code",
   "metadata": {
    "ExecuteTime": {
     "end_time": "2024-04-24T07:52:56.338416Z",
     "start_time": "2024-04-24T07:52:56.335587Z"
    }
   },
   "source": [
    "df = df.rename(lambda x: x.strip().replace(\"\\u200b\", \"\"))"
   ],
   "outputs": [],
   "execution_count": 3
  },
  {
   "cell_type": "code",
   "metadata": {
    "ExecuteTime": {
     "end_time": "2024-04-24T07:52:56.349834Z",
     "start_time": "2024-04-24T07:52:56.339537Z"
    }
   },
   "source": [
    "df.select(\n",
    "    pl.col(\"Project Status\").unique(), pl.col(\"Project Status\").unique_counts().alias(\"counts\")\n",
    ")"
   ],
   "outputs": [
    {
     "data": {
      "text/plain": [
       "shape: (6, 2)\n",
       "┌────────────────────────────┬────────┐\n",
       "│ Project Status             ┆ counts │\n",
       "│ ---                        ┆ ---    │\n",
       "│ str                        ┆ u32    │\n",
       "╞════════════════════════════╪════════╡\n",
       "│ Mature Project or Business ┆ 11     │\n",
       "│ Pre-operational            ┆ 3      │\n",
       "│ Scaling or Expanding       ┆ 10     │\n",
       "│ Start-up to Early Stage    ┆ 89     │\n",
       "│ In Execution               ┆ 5      │\n",
       "│ Completed                  ┆ 3      │\n",
       "└────────────────────────────┴────────┘"
      ],
      "text/html": [
       "<div><style>\n",
       ".dataframe > thead > tr,\n",
       ".dataframe > tbody > tr {\n",
       "  text-align: right;\n",
       "  white-space: pre-wrap;\n",
       "}\n",
       "</style>\n",
       "<small>shape: (6, 2)</small><table border=\"1\" class=\"dataframe\"><thead><tr><th>Project Status</th><th>counts</th></tr><tr><td>str</td><td>u32</td></tr></thead><tbody><tr><td>&quot;Mature Project…</td><td>11</td></tr><tr><td>&quot;Pre-operationa…</td><td>3</td></tr><tr><td>&quot;Scaling or Exp…</td><td>10</td></tr><tr><td>&quot;Start-up to Ea…</td><td>89</td></tr><tr><td>&quot;In Execution&quot;</td><td>5</td></tr><tr><td>&quot;Completed&quot;</td><td>3</td></tr></tbody></table></div>"
      ]
     },
     "execution_count": 4,
     "metadata": {},
     "output_type": "execute_result"
    }
   ],
   "execution_count": 4
  },
  {
   "cell_type": "markdown",
   "metadata": {
    "collapsed": false
   },
   "source": [
    "## SDGs"
   ]
  },
  {
   "cell_type": "code",
   "metadata": {
    "collapsed": false,
    "ExecuteTime": {
     "end_time": "2024-04-24T07:52:56.409972Z",
     "start_time": "2024-04-24T07:52:56.350487Z"
    }
   },
   "source": [
    "sdgs = df.select(pl.col(\"SDGs\").str.split(\"; \").list.explode()).unique().to_numpy().ravel()\n",
    "sdgs = sorted(sdgs, key=lambda x: int(x[4:6]))\n",
    "print(json.dumps([{\"name\": e} for e in sdgs]))"
   ],
   "outputs": [
    {
     "name": "stdout",
     "output_type": "stream",
     "text": [
      "[{\"name\": \"SDG 7 - Affordable and clean energy\"}, {\"name\": \"SDG 8 - Decent work and economic growth\"}, {\"name\": \"SDG 9 - Industry Innovation and Infrastructure\"}, {\"name\": \"SDG 11 - Sustainable Cities and Communities\"}, {\"name\": \"SDG 12 - Responsible production and consumption\"}, {\"name\": \"SDG 13 - Climate Action\"}, {\"name\": \"SDG 14 - Life below water\"}, {\"name\": \"SDG 15 - Life on land\"}, {\"name\": \"SDG 17 - Partnership for the goals\"}]\n"
     ]
    }
   ],
   "execution_count": 5
  },
  {
   "cell_type": "markdown",
   "metadata": {
    "collapsed": false
   },
   "source": [
    "## Pillars"
   ]
  },
  {
   "cell_type": "code",
   "metadata": {
    "collapsed": false,
    "ExecuteTime": {
     "end_time": "2024-04-24T07:52:56.414341Z",
     "start_time": "2024-04-24T07:52:56.410819Z"
    }
   },
   "source": [
    "pilars = df.select(pl.col(\"CCSA Pillar\")).unique()\n",
    "print(json.dumps([{\"name\": e} for e in list(pilars.to_numpy().ravel())]))"
   ],
   "outputs": [
    {
     "name": "stdout",
     "output_type": "stream",
     "text": [
      "[{\"name\": \"Climate Smart Map\"}, {\"name\": \"1.5% New Green Jobs for Physical & Economic Resilience\"}, {\"name\": \"30 x 30 Nature Based Solutions\"}, {\"name\": \"90% Renewable Energy for All\"}]\n"
     ]
    }
   ],
   "execution_count": 6
  },
  {
   "cell_type": "markdown",
   "metadata": {
    "collapsed": false
   },
   "source": [
    "## Countries"
   ]
  },
  {
   "cell_type": "code",
   "metadata": {
    "collapsed": false,
    "ExecuteTime": {
     "end_time": "2024-04-24T07:52:56.431967Z",
     "start_time": "2024-04-24T07:52:56.415272Z"
    }
   },
   "source": [
    "countries = list(\n",
    "    df.select(pl.col(\"Operates in\").str.split(\"; \").list.explode()).unique().to_numpy().ravel()\n",
    ")\n",
    "countries"
   ],
   "outputs": [
    {
     "data": {
      "text/plain": [
       "['Dominica',\n",
       " 'Saint Lucia',\n",
       " 'Dominican Republic',\n",
       " 'Belize',\n",
       " 'Japan',\n",
       " 'Puerto Rico',\n",
       " 'Antigua and Barbuda',\n",
       " 'Bermuda',\n",
       " 'Bonaire',\n",
       " 'Suriname',\n",
       " 'Mexico',\n",
       " 'St. Kitts & Nevis',\n",
       " 'Anguilla',\n",
       " 'US Virgin Islands',\n",
       " 'Haiti',\n",
       " 'Trinidad & Tobago',\n",
       " 'Regional',\n",
       " 'Honduras',\n",
       " 'Bahamas',\n",
       " 'Grenada',\n",
       " 'Curacao',\n",
       " 'Guyana',\n",
       " 'Costa Rica',\n",
       " 'Panama',\n",
       " 'Jamaica',\n",
       " 'St. Vincent & the Grenadines',\n",
       " 'Barbados',\n",
       " 'Aruba',\n",
       " 'Montserrat',\n",
       " 'British Virgin Islands',\n",
       " 'Cayman',\n",
       " 'Turks & Caicos Islands']"
      ]
     },
     "execution_count": 7,
     "metadata": {},
     "output_type": "execute_result"
    }
   ],
   "execution_count": 7
  },
  {
   "cell_type": "markdown",
   "metadata": {
    "collapsed": false
   },
   "source": [
    "## get `IDs`\n",
    "\n",
    "Previous SDG and pillar JSONs must be loaded first into Strapi"
   ]
  },
  {
   "cell_type": "code",
   "metadata": {
    "collapsed": false,
    "ExecuteTime": {
     "end_time": "2024-04-24T07:52:57.121959Z",
     "start_time": "2024-04-24T07:52:56.432911Z"
    }
   },
   "source": [
    "sdg_ids = get_ids(\"sdgs\")\n",
    "print(sdg_ids)"
   ],
   "outputs": [
    {
     "name": "stdout",
     "output_type": "stream",
     "text": [
      "{'SDG 7 - Affordable and clean energy': 1, 'SDG 8 - Decent work and economic growth': 2, 'SDG 9 - Industry Innovation and Infrastructure': 3, 'SDG 11 - Sustainable Cities and Communities': 4, 'SDG 12 - Responsible production and consumption': 5, 'SDG 13 - Climate Action': 6, 'SDG 14 - Life below water': 7, 'SDG 15 - Life on land': 8, 'SDG 17 - Partnership for the goals': 9}\n"
     ]
    }
   ],
   "execution_count": 8
  },
  {
   "cell_type": "code",
   "metadata": {
    "collapsed": false,
    "ExecuteTime": {
     "end_time": "2024-04-24T07:52:57.838387Z",
     "start_time": "2024-04-24T07:52:57.123442Z"
    }
   },
   "source": [
    "pillar_ids = get_ids(\"pillars\")\n",
    "print(pillar_ids)"
   ],
   "outputs": [
    {
     "name": "stdout",
     "output_type": "stream",
     "text": [
      "{'1.5% New Green Jobs for Physical & Economic Resilience': 1, 'Climate Smart Map': 2, '90% Renewable Energy for All': 3, '30 x 30 Nature Based Solutions': 4}\n"
     ]
    }
   ],
   "execution_count": 9
  },
  {
   "cell_type": "code",
   "metadata": {
    "collapsed": false,
    "ExecuteTime": {
     "end_time": "2024-04-24T07:52:59.479105Z",
     "start_time": "2024-04-24T07:52:57.840371Z"
    }
   },
   "source": [
    "country_ids = get_ids(\"countries\")\n",
    "print(sorted(country_ids.items(), key=lambda x: x[0]))"
   ],
   "outputs": [
    {
     "name": "stdout",
     "output_type": "stream",
     "text": [
      "[('Anguilla', 919), ('Antigua and Barbuda', 920), ('Aruba', 918), ('Bahamas', 922), ('Barbados', 925), ('Belize', 923), ('Bermuda', 924), ('Bonaire, Sint Eustatius and Saba', 921), ('British Virgin Islands', 946), ('Cayman Islands', 928), ('Costa Rica', 926), ('Curaçao', 927), ('Dominica', 929), ('Dominican Republic', 930), ('Grenada', 932), ('Guadeloupe', 931), ('Guyana', 933), ('Haiti', 935), ('Honduras', 934), ('Jamaica', 936), ('Montserrat', 940), ('México', 939), ('Panama', 941), ('Puerto Rico', 948), ('Saint Kitts and Nevis', 937), ('Saint Lucia', 938), ('Saint Vincent and the Grenadines', 945), ('Suriname', 942), ('Trinidad and Tobago', 944), ('Turks and Caicos Islands', 943), ('Virgin Islands, U.S.', 947)]\n"
     ]
    }
   ],
   "execution_count": 10
  },
  {
   "cell_type": "markdown",
   "metadata": {
    "collapsed": false
   },
   "source": [
    "## Clean Data and make JSON"
   ]
  },
  {
   "cell_type": "code",
   "metadata": {
    "collapsed": false,
    "ExecuteTime": {
     "end_time": "2024-04-24T07:52:59.485029Z",
     "start_time": "2024-04-24T07:52:59.480386Z"
    }
   },
   "source": [
    "# Countries that are not in the countries table in Strapi\n",
    "\n",
    "print(\n",
    "    set(df.select(pl.col(\"Operates in\").str.split(\"; \").list.explode()).unique().to_numpy().ravel())\n",
    "    - country_ids.keys()\n",
    ")"
   ],
   "outputs": [
    {
     "name": "stdout",
     "output_type": "stream",
     "text": [
      "{'Curacao', 'Bonaire', 'St. Kitts & Nevis', 'Turks & Caicos Islands', 'Mexico', 'Cayman', 'Trinidad & Tobago', 'Regional', 'Japan', 'St. Vincent & the Grenadines', 'US Virgin Islands'}\n"
     ]
    }
   ],
   "execution_count": 11
  },
  {
   "cell_type": "code",
   "metadata": {
    "collapsed": false,
    "ExecuteTime": {
     "end_time": "2024-04-24T07:52:59.516886Z",
     "start_time": "2024-04-24T07:52:59.486561Z"
    }
   },
   "source": [
    "countries_fix = {\n",
    "    \"Bonaire\": \"Bonaire, Sint Eustatius and Saba\",\n",
    "    \"Cayman\": \"Cayman Islands\",\n",
    "    \"Curacao\": \"Curaçao\",\n",
    "    \"Japan\": \"\",\n",
    "    \"Mexico\": \"México\",\n",
    "    \"Regional\": \"\",\n",
    "    \"St. Kitts & Nevis\": \"Saint Kitts and Nevis\",\n",
    "    \"St. Vincent & the Grenadines\": \"Saint Vincent and the Grenadines\",\n",
    "    \"Trinidad & Tobago\": \"Trinidad and Tobago\",\n",
    "    \"Turks & Caicos Islands\": \"Turks and Caicos Islands\",\n",
    "    \"US Virgin Islands\": \"Virgin Islands, U.S.\",\n",
    "}\n",
    "\n",
    "df = df.with_columns(\n",
    "    pl.col(\"Operates in\")\n",
    "    .str.split(\"; \")\n",
    "    .list.eval(\n",
    "        pl.when(pl.element().is_in(countries_fix.keys()))\n",
    "        .then(pl.element().replace(countries_fix, default=None))\n",
    "        .otherwise(pl.element())\n",
    "    ),\n",
    ")"
   ],
   "outputs": [],
   "execution_count": 12
  },
  {
   "cell_type": "code",
   "metadata": {
    "collapsed": false,
    "ExecuteTime": {
     "end_time": "2024-04-24T07:52:59.521625Z",
     "start_time": "2024-04-24T07:52:59.518017Z"
    }
   },
   "source": [
    "# count the nulls\n",
    "print(df.filter(pl.col(\"Operates in\").list.eval(pl.element().is_null()).list.any()))"
   ],
   "outputs": [
    {
     "name": "stdout",
     "output_type": "stream",
     "text": [
      "shape: (0, 12)\n",
      "┌─────────┬─────────────┬─────────┬───────────┬───┬──────┬────────┬────────────────────┬───────────┐\n",
      "│ Project ┆ Project     ┆ Project ┆ Objective ┆ … ┆ SDGs ┆ CCSA   ┆ Organization Type  ┆ More Info │\n",
      "│ Name    ┆ Description ┆ Status  ┆ ---       ┆   ┆ ---  ┆ Pillar ┆ ---                ┆ ---       │\n",
      "│ ---     ┆ ---         ┆ ---     ┆ str       ┆   ┆ str  ┆ ---    ┆ str                ┆ str       │\n",
      "│ str     ┆ str         ┆ str     ┆           ┆   ┆      ┆ str    ┆                    ┆           │\n",
      "╞═════════╪═════════════╪═════════╪═══════════╪═══╪══════╪════════╪════════════════════╪═══════════╡\n",
      "└─────────┴─────────────┴─────────┴───────────┴───┴──────┴────────┴────────────────────┴───────────┘\n"
     ]
    }
   ],
   "execution_count": 13
  },
  {
   "cell_type": "code",
   "metadata": {
    "collapsed": false,
    "ExecuteTime": {
     "end_time": "2024-04-24T07:52:59.535499Z",
     "start_time": "2024-04-24T07:52:59.522502Z"
    }
   },
   "source": [
    "# map pillar, SDG and countries to corresponding IDs\n",
    "df_with_ids = df.with_columns(\n",
    "    pl.col(\"SDGs\").str.split(\"; \").list.eval(pl.element().replace(sdg_ids, default=None)),\n",
    "    pl.col(\"CCSA Pillar\").replace(pillar_ids, default=None),\n",
    "    pl.col(\"Operates in\").list.eval(pl.element().replace(country_ids, default=None)),\n",
    ")\n",
    "\n",
    "column_names = {\n",
    "    \"CCSA Pillar\": \"pillar\",\n",
    "    \"Project Name\": \"name\",\n",
    "    \"Project Description\": \"highlight\",\n",
    "    \"Project Status\": \"status\",\n",
    "    \"Project Needs\": \"funding\",\n",
    "    # \"Account Name\": \"account\",\n",
    "    \"Project Value\": \"amount\",\n",
    "    \"SDGs\": \"sdgs\",\n",
    "    \"Operates in\": \"countries\",\n",
    "}\n",
    "# count the nulls\n",
    "print(df_with_ids.filter(pl.col(\"Operates in\").list.eval(pl.element().is_null()).list.any()))"
   ],
   "outputs": [
    {
     "name": "stdout",
     "output_type": "stream",
     "text": [
      "shape: (7, 12)\n",
      "┌───────────┬───────────┬───────────┬───────────┬───┬───────────┬───────────┬───────────┬──────────┐\n",
      "│ Project   ┆ Project   ┆ Project   ┆ Objective ┆ … ┆ SDGs      ┆ CCSA      ┆ Organizat ┆ More     │\n",
      "│ Name      ┆ Descripti ┆ Status    ┆ ---       ┆   ┆ ---       ┆ Pillar    ┆ ion Type  ┆ Info     │\n",
      "│ ---       ┆ on        ┆ ---       ┆ str       ┆   ┆ list[i64] ┆ ---       ┆ ---       ┆ ---      │\n",
      "│ str       ┆ ---       ┆ str       ┆           ┆   ┆           ┆ i64       ┆ str       ┆ str      │\n",
      "│           ┆ str       ┆           ┆           ┆   ┆           ┆           ┆           ┆          │\n",
      "╞═══════════╪═══════════╪═══════════╪═══════════╪═══╪═══════════╪═══════════╪═══════════╪══════════╡\n",
      "│ Phase 1:  ┆ Caribbean ┆ Completed ┆ This      ┆ … ┆ [1, 2, …  ┆ 3         ┆ For-profi ┆ null     │\n",
      "│ Solar     ┆ nations   ┆           ┆ project   ┆   ┆ 9]        ┆           ┆ t         ┆          │\n",
      "│ Panel     ┆ need to   ┆           ┆ has been  ┆   ┆           ┆           ┆           ┆          │\n",
      "│ Assembly  ┆ instal…   ┆           ┆ delivered ┆   ┆           ┆           ┆           ┆          │\n",
      "│ Phase 2:  ┆ A         ┆ Start-up  ┆ Incubatio ┆ … ┆ [1, 2, …  ┆ 3         ┆ For-profi ┆ null     │\n",
      "│ Build     ┆ regional  ┆ to Early  ┆ n         ┆   ┆ 9]        ┆           ┆ t         ┆          │\n",
      "│ Caribbean ┆ blended   ┆ Stage     ┆           ┆   ┆           ┆           ┆           ┆          │\n",
      "│ Blended…  ┆ financial ┆           ┆           ┆   ┆           ┆           ┆           ┆          │\n",
      "│           ┆ fun…      ┆           ┆           ┆   ┆           ┆           ┆           ┆          │\n",
      "│ Regenerat ┆ The       ┆ In        ┆ This      ┆ … ┆ [6, 7, …  ┆ 4         ┆ Nonprofit ┆ null     │\n",
      "│ ing the   ┆ objective ┆ Execution ┆ project   ┆   ┆ 9]        ┆           ┆           ┆          │\n",
      "│ Blue      ┆ is to     ┆           ┆ has been  ┆   ┆           ┆           ┆           ┆          │\n",
      "│ Forests   ┆ build a   ┆           ┆ delivered ┆   ┆           ┆           ┆           ┆          │\n",
      "│ of…       ┆ comm…     ┆           ┆           ┆   ┆           ┆           ┆           ┆          │\n",
      "│ Business  ┆ Since     ┆ In        ┆ This      ┆ … ┆ [6, 9]    ┆ 4         ┆ Nonprofit ┆ null     │\n",
      "│ Continuit ┆ 1950 over ┆ Execution ┆ project   ┆   ┆           ┆           ┆           ┆          │\n",
      "│ y and     ┆ 63% of    ┆           ┆ has been  ┆   ┆           ┆           ┆           ┆          │\n",
      "│ Coastal … ┆ the       ┆           ┆ delivered ┆   ┆           ┆           ┆           ┆          │\n",
      "│           ┆ world…    ┆           ┆           ┆   ┆           ┆           ┆           ┆          │\n",
      "│ WIPO      ┆ Caribbean ┆ In        ┆ This      ┆ … ┆ [6, 9]    ┆ 4         ┆ Nonprofit ┆ null     │\n",
      "│ (Workshop ┆ Ocean     ┆ Execution ┆ project   ┆   ┆           ┆           ┆           ┆          │\n",
      "│ 1& 2)     ┆ economy   ┆           ┆ has been  ┆   ┆           ┆           ┆           ┆          │\n",
      "│ Blue      ┆ estimate… ┆           ┆ delivered ┆   ┆           ┆           ┆           ┆          │\n",
      "│ Econom…   ┆           ┆           ┆           ┆   ┆           ┆           ┆           ┆          │\n",
      "│ Develop a ┆ Developin ┆ In        ┆ This      ┆ … ┆ [1, 2, …  ┆ 2         ┆ Nonprofit ┆ null     │\n",
      "│ Regional  ┆ g a       ┆ Execution ┆ project   ┆   ┆ 9]        ┆           ┆           ┆          │\n",
      "│ Resilienc ┆ scorecard ┆           ┆ has been  ┆   ┆           ┆           ┆           ┆          │\n",
      "│ e Sc…     ┆ that      ┆           ┆ delivered ┆   ┆           ┆           ┆           ┆          │\n",
      "│           ┆ coun…     ┆           ┆           ┆   ┆           ┆           ┆           ┆          │\n",
      "│ Building  ┆ To build  ┆ Pre-opera ┆ Project   ┆ … ┆ [6, 9]    ┆ 2         ┆ Nonprofit ┆ https:// │\n",
      "│ Climate   ┆ instituti ┆ tional    ┆ is being  ┆   ┆           ┆           ┆           ┆ www.cari │\n",
      "│ Resilienc ┆ onal      ┆           ┆ prepared  ┆   ┆           ┆           ┆           ┆ cad.net/ │\n",
      "│ e Gove…   ┆ capacity  ┆           ┆ for sh…   ┆   ┆           ┆           ┆           ┆          │\n",
      "│           ┆ …         ┆           ┆           ┆   ┆           ┆           ┆           ┆          │\n",
      "└───────────┴───────────┴───────────┴───────────┴───┴───────────┴───────────┴───────────┴──────────┘\n"
     ]
    }
   ],
   "execution_count": 14
  },
  {
   "cell_type": "code",
   "metadata": {
    "ExecuteTime": {
     "end_time": "2024-04-24T07:52:59.547111Z",
     "start_time": "2024-04-24T07:52:59.536521Z"
    }
   },
   "source": [
    "df.columns"
   ],
   "outputs": [
    {
     "data": {
      "text/plain": [
       "['Project Name',\n",
       " 'Project Description',\n",
       " 'Project Status',\n",
       " 'Objective',\n",
       " 'Project Value',\n",
       " 'Project Needs',\n",
       " 'Operates in',\n",
       " 'Source Country',\n",
       " 'SDGs',\n",
       " 'CCSA Pillar',\n",
       " 'Organization Type',\n",
       " 'More Info']"
      ]
     },
     "execution_count": 15,
     "metadata": {},
     "output_type": "execute_result"
    }
   ],
   "execution_count": 15
  },
  {
   "cell_type": "code",
   "metadata": {
    "collapsed": false,
    "ExecuteTime": {
     "end_time": "2024-04-24T07:52:59.557759Z",
     "start_time": "2024-04-24T07:52:59.548091Z"
    }
   },
   "source": [
    "df_with_ids.select(*column_names.keys()).rename(column_names).write_json(\n",
    "    \"../data/phase2/projects.json\", pretty=True, row_oriented=True\n",
    ")"
   ],
   "outputs": [],
   "execution_count": 16
  },
  {
   "cell_type": "code",
   "metadata": {
    "ExecuteTime": {
     "end_time": "2024-04-24T07:52:59.574178Z",
     "start_time": "2024-04-24T07:52:59.558933Z"
    }
   },
   "source": [
    "len(df_with_ids)"
   ],
   "outputs": [
    {
     "data": {
      "text/plain": [
       "121"
      ]
     },
     "execution_count": 17,
     "metadata": {},
     "output_type": "execute_result"
    }
   ],
   "execution_count": 17
  },
  {
   "cell_type": "code",
   "metadata": {
    "ExecuteTime": {
     "end_time": "2024-04-24T07:52:59.577046Z",
     "start_time": "2024-04-24T07:52:59.575165Z"
    }
   },
   "source": [],
   "outputs": [],
   "execution_count": 17
  }
 ],
 "metadata": {
  "kernelspec": {
   "display_name": "Python 3",
   "language": "python",
   "name": "python3"
  },
  "language_info": {
   "codemirror_mode": {
    "name": "ipython",
    "version": 2
   },
   "file_extension": ".py",
   "mimetype": "text/x-python",
   "name": "python",
   "nbconvert_exporter": "python",
   "pygments_lexer": "ipython2",
   "version": "2.7.6"
  }
 },
 "nbformat": 4,
 "nbformat_minor": 0
}
