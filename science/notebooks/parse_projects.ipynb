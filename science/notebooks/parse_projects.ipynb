{
 "cells": [
  {
   "attachments": {},
   "cell_type": "markdown",
   "metadata": {
    "collapsed": false
   },
   "source": [
    "# Parse Projects `xlsx`"
   ]
  },
  {
   "cell_type": "code",
   "execution_count": null,
   "metadata": {
    "collapsed": false
   },
   "outputs": [],
   "source": [
    "import json\n",
    "import os\n",
    "\n",
    "import dotenv\n",
    "import httpx\n",
    "import polars as pl\n",
    "\n",
    "dotenv.load_dotenv(\"../../.env\")"
   ]
  },
  {
   "cell_type": "code",
   "execution_count": null,
   "metadata": {
    "collapsed": false
   },
   "outputs": [],
   "source": [
    "df = pl.read_csv(\"../data/CLEAN-Climate-Smart Map2023-11-07-16-59-55.csv\")\n",
    "\n",
    "# parse money\n",
    "df = df.with_columns(\n",
    "    pl.col(\"Total Amount\").str.strip_prefix(\"$\").str.replace_all(\",\", \"\").str.to_decimal()\n",
    ")"
   ]
  },
  {
   "cell_type": "markdown",
   "metadata": {
    "collapsed": false
   },
   "source": [
    "## SDGs"
   ]
  },
  {
   "cell_type": "code",
   "execution_count": null,
   "metadata": {
    "collapsed": false
   },
   "outputs": [],
   "source": [
    "sdgs = df.select(pl.col(\"SDG\").str.split(\"; \").list.explode()).unique().to_numpy().ravel()\n",
    "sdgs = sorted(sdgs, key=lambda x: int(x[4:6]))\n",
    "print(json.dumps([{\"name\": e} for e in sdgs]))"
   ]
  },
  {
   "cell_type": "markdown",
   "metadata": {
    "collapsed": false
   },
   "source": [
    "## Pillars"
   ]
  },
  {
   "cell_type": "code",
   "execution_count": null,
   "metadata": {
    "collapsed": false
   },
   "outputs": [],
   "source": [
    "pilars = df.select(pl.col(\"Pillar\")).unique()\n",
    "print(json.dumps([{\"name\": e} for e in list(pilars.to_numpy().ravel())]))"
   ]
  },
  {
   "cell_type": "markdown",
   "metadata": {
    "collapsed": false
   },
   "source": [
    "## Countries"
   ]
  },
  {
   "cell_type": "code",
   "execution_count": null,
   "metadata": {
    "collapsed": false
   },
   "outputs": [],
   "source": [
    "countries = list(\n",
    "    df.select(pl.col(\"Country\").str.split(\"; \").list.explode()).unique().to_numpy().ravel()\n",
    ")"
   ]
  },
  {
   "cell_type": "markdown",
   "metadata": {
    "collapsed": false
   },
   "source": [
    "## get `IDs`\n",
    "\n",
    "Previous SDG and pillar JSONs must be loaded first into Strapi"
   ]
  },
  {
   "cell_type": "code",
   "execution_count": null,
   "metadata": {
    "collapsed": false
   },
   "outputs": [],
   "source": [
    "def get_ids(plural_api_id: str) -> dict[str, int]:\n",
    "    \"\"\"Get Strapi IDs for model\"\"\"\n",
    "    res = httpx.get(\n",
    "        f\"https://staging.ccsa.dev-vizzuality.com/cms/api/{plural_api_id}\",\n",
    "        headers={\"Authorization\": f\"bearer {os.getenv('STRAPI_TOKEN')}\"},\n",
    "    )\n",
    "    res.raise_for_status()\n",
    "    ids = {e[\"attributes\"][\"name\"]: e[\"id\"] for e in res.json()[\"data\"]}\n",
    "    return ids"
   ]
  },
  {
   "cell_type": "code",
   "execution_count": null,
   "metadata": {
    "collapsed": false
   },
   "outputs": [],
   "source": [
    "sdg_ids = get_ids(\"sdgs\")\n",
    "print(sdg_ids)"
   ]
  },
  {
   "cell_type": "code",
   "execution_count": null,
   "metadata": {
    "collapsed": false
   },
   "outputs": [],
   "source": [
    "pillar_ids = get_ids(\"pillars\")\n",
    "print(pillar_ids)"
   ]
  },
  {
   "cell_type": "code",
   "execution_count": null,
   "metadata": {
    "collapsed": false
   },
   "outputs": [],
   "source": [
    "country_ids = get_ids(\"countries\")\n",
    "print(sorted(country_ids.items(), key=lambda x: x[0]))"
   ]
  },
  {
   "cell_type": "markdown",
   "metadata": {
    "collapsed": false
   },
   "source": [
    "```\n",
    "{\n",
    "    \"US Virgin Islands\": \"Virgin Islands, U.S.\",\n",
    "    \"St. Kitts & Nevis\": \"Saint Kitts and Nevis\",\n",
    "\"Regional\": \"\",\n",
    "\"Puerto Rico\": \"Puerto Rico\",\n",
    "\"Curacao\": \"Curaçao\",\n",
    "\"Trinidad & Tobago\": \"Trinidad and Tobago\",\n",
    "Japan\n",
    "Cayman\n",
    "Suriname\n",
    "Bonaire\n",
    "Mexico\n",
    "St. Vincent & the Grenadines\n",
    "Turks & Caicos Islands\n",
    "}\n",
    "```"
   ]
  },
  {
   "cell_type": "code",
   "execution_count": null,
   "metadata": {
    "collapsed": false
   },
   "outputs": [],
   "source": [
    "# Countries not in Strapi\n",
    "for c in countries:\n",
    "    if c not in country_ids:\n",
    "        print(c)"
   ]
  },
  {
   "cell_type": "code",
   "execution_count": null,
   "metadata": {
    "collapsed": false
   },
   "outputs": [],
   "source": []
  }
 ],
 "metadata": {
  "kernelspec": {
   "display_name": "Python 3",
   "language": "python",
   "name": "python3"
  },
  "language_info": {
   "codemirror_mode": {
    "name": "ipython",
    "version": 2
   },
   "file_extension": ".py",
   "mimetype": "text/x-python",
   "name": "python",
   "nbconvert_exporter": "python",
   "pygments_lexer": "ipython2",
   "version": "2.7.6"
  }
 },
 "nbformat": 4,
 "nbformat_minor": 0
}
