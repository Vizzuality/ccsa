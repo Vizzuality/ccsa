{
 "cells": [
  {
   "attachments": {},
   "cell_type": "markdown",
   "metadata": {
    "collapsed": false
   },
   "source": [
    "# Parse Projects `xlsx`"
   ]
  },
  {
   "cell_type": "code",
   "metadata": {
    "collapsed": false,
    "ExecuteTime": {
     "end_time": "2024-05-03T10:04:04.128716Z",
     "start_time": "2024-05-03T10:04:03.968470Z"
    }
   },
   "source": [
    "import json\n",
    "\n",
    "import dotenv\n",
    "import polars as pl\n",
    "from utils import get_ids\n",
    "\n",
    "dotenv.load_dotenv(\"../.env\")"
   ],
   "outputs": [
    {
     "data": {
      "text/plain": [
       "False"
      ]
     },
     "execution_count": 1,
     "metadata": {},
     "output_type": "execute_result"
    }
   ],
   "execution_count": 1
  },
  {
   "cell_type": "code",
   "metadata": {
    "collapsed": false,
    "ExecuteTime": {
     "end_time": "2024-05-03T10:04:05.072855Z",
     "start_time": "2024-05-03T10:04:05.005947Z"
    }
   },
   "source": [
    "df = pl.read_excel(\"../data/Climate Smart Map Data Set6.xlsx\")\n",
    "# parse money\n",
    "# df = df.with_columns(\n",
    "#     pl.col(\"Project Value\").str.strip_prefix(\"$\").str.replace_all(\",\", \"\").cast(pl.Float32)\n",
    "# )\n",
    "df.head()"
   ],
   "outputs": [
    {
     "data": {
      "text/plain": [
       "shape: (5, 13)\n",
       "┌───────────┬───────────┬───────────┬───────────┬───┬───────────┬───────────┬───────────┬──────────┐\n",
       "│ _duplicat ┆ _duplicat ┆ _duplicat ┆ _duplicat ┆ … ┆ _duplicat ┆ _duplicat ┆ _duplicat ┆ _duplica │\n",
       "│ ed_0      ┆ ed_1      ┆ ed_2      ┆ ed_3      ┆   ┆ ed_9      ┆ ed_10     ┆ ed_11     ┆ ted_12   │\n",
       "│ ---       ┆ ---       ┆ ---       ┆ ---       ┆   ┆ ---       ┆ ---       ┆ ---       ┆ ---      │\n",
       "│ str       ┆ str       ┆ str       ┆ str       ┆   ┆ str       ┆ str       ┆ str       ┆ str      │\n",
       "╞═══════════╪═══════════╪═══════════╪═══════════╪═══╪═══════════╪═══════════╪═══════════╪══════════╡\n",
       "│ Climate   ┆ null      ┆ null      ┆ null      ┆ … ┆ null      ┆ null      ┆ null      ┆ null     │\n",
       "│ Smart Map ┆           ┆           ┆           ┆   ┆           ┆           ┆           ┆          │\n",
       "│ Project   ┆           ┆           ┆           ┆   ┆           ┆           ┆           ┆          │\n",
       "│ Report    ┆           ┆           ┆           ┆   ┆           ┆           ┆           ┆          │\n",
       "│ As of 202 ┆ null      ┆ null      ┆ null      ┆ … ┆ null      ┆ null      ┆ null      ┆ null     │\n",
       "│ 4-04-20   ┆           ┆           ┆           ┆   ┆           ┆           ┆           ┆          │\n",
       "│ 22:34:01  ┆           ┆           ┆           ┆   ┆           ┆           ┆           ┆          │\n",
       "│ Greenw…   ┆           ┆           ┆           ┆   ┆           ┆           ┆           ┆          │\n",
       "│ Filtered  ┆ null      ┆ null      ┆ null      ┆ … ┆ null      ┆ null      ┆ null      ┆ null     │\n",
       "│ By        ┆           ┆           ┆           ┆   ┆           ┆           ┆           ┆          │\n",
       "│ Show: All ┆ null      ┆ null      ┆ null      ┆ … ┆ null      ┆ null      ┆ null      ┆ null     │\n",
       "│ opportuni ┆           ┆           ┆           ┆   ┆           ┆           ┆           ┆          │\n",
       "│ ties      ┆           ┆           ┆           ┆   ┆           ┆           ┆           ┆          │\n",
       "│ Opportuni ┆ null      ┆ null      ┆ null      ┆ … ┆ null      ┆ null      ┆ null      ┆ null     │\n",
       "│ ty        ┆           ┆           ┆           ┆   ┆           ┆           ┆           ┆          │\n",
       "│ Status:   ┆           ┆           ┆           ┆   ┆           ┆           ┆           ┆          │\n",
       "│ Any       ┆           ┆           ┆           ┆   ┆           ┆           ┆           ┆          │\n",
       "└───────────┴───────────┴───────────┴───────────┴───┴───────────┴───────────┴───────────┴──────────┘"
      ],
      "text/html": [
       "<div><style>\n",
       ".dataframe > thead > tr,\n",
       ".dataframe > tbody > tr {\n",
       "  text-align: right;\n",
       "  white-space: pre-wrap;\n",
       "}\n",
       "</style>\n",
       "<small>shape: (5, 13)</small><table border=\"1\" class=\"dataframe\"><thead><tr><th>_duplicated_0</th><th>_duplicated_1</th><th>_duplicated_2</th><th>_duplicated_3</th><th>_duplicated_4</th><th>_duplicated_5</th><th>_duplicated_6</th><th>_duplicated_7</th><th>_duplicated_8</th><th>_duplicated_9</th><th>_duplicated_10</th><th>_duplicated_11</th><th>_duplicated_12</th></tr><tr><td>str</td><td>str</td><td>str</td><td>str</td><td>str</td><td>str</td><td>str</td><td>str</td><td>str</td><td>str</td><td>str</td><td>str</td><td>str</td></tr></thead><tbody><tr><td>&quot;Climate Smart …</td><td>null</td><td>null</td><td>null</td><td>null</td><td>null</td><td>null</td><td>null</td><td>null</td><td>null</td><td>null</td><td>null</td><td>null</td></tr><tr><td>&quot;As of 2024-04-…</td><td>null</td><td>null</td><td>null</td><td>null</td><td>null</td><td>null</td><td>null</td><td>null</td><td>null</td><td>null</td><td>null</td><td>null</td></tr><tr><td>&quot;Filtered By&quot;</td><td>null</td><td>null</td><td>null</td><td>null</td><td>null</td><td>null</td><td>null</td><td>null</td><td>null</td><td>null</td><td>null</td><td>null</td></tr><tr><td>&quot;Show: All oppo…</td><td>null</td><td>null</td><td>null</td><td>null</td><td>null</td><td>null</td><td>null</td><td>null</td><td>null</td><td>null</td><td>null</td><td>null</td></tr><tr><td>&quot;Opportunity St…</td><td>null</td><td>null</td><td>null</td><td>null</td><td>null</td><td>null</td><td>null</td><td>null</td><td>null</td><td>null</td><td>null</td><td>null</td></tr></tbody></table></div>"
      ]
     },
     "execution_count": 2,
     "metadata": {},
     "output_type": "execute_result"
    }
   ],
   "execution_count": 2
  },
  {
   "cell_type": "code",
   "execution_count": 3,
   "metadata": {
    "ExecuteTime": {
     "end_time": "2024-04-24T07:52:56.338416Z",
     "start_time": "2024-04-24T07:52:56.335587Z"
    }
   },
   "outputs": [],
   "source": [
    "df = df.rename(lambda x: x.strip().replace(\"\\u200b\", \"\"))"
   ]
  },
  {
   "cell_type": "code",
   "execution_count": 4,
   "metadata": {
    "ExecuteTime": {
     "end_time": "2024-04-24T07:52:56.349834Z",
     "start_time": "2024-04-24T07:52:56.339537Z"
    }
   },
   "outputs": [
    {
     "data": {
      "text/html": [
       "<div><style>\n",
       ".dataframe > thead > tr,\n",
       ".dataframe > tbody > tr {\n",
       "  text-align: right;\n",
       "  white-space: pre-wrap;\n",
       "}\n",
       "</style>\n",
       "<small>shape: (6, 2)</small><table border=\"1\" class=\"dataframe\"><thead><tr><th>Project Status</th><th>counts</th></tr><tr><td>str</td><td>u32</td></tr></thead><tbody><tr><td>&quot;Completed&quot;</td><td>10</td></tr><tr><td>&quot;In Execution&quot;</td><td>83</td></tr><tr><td>&quot;Pre-operationa…</td><td>10</td></tr><tr><td>&quot;Scaling or Exp…</td><td>5</td></tr><tr><td>&quot;Mature Project…</td><td>3</td></tr><tr><td>&quot;Start-up to Ea…</td><td>3</td></tr></tbody></table></div>"
      ],
      "text/plain": [
       "shape: (6, 2)\n",
       "┌────────────────────────────┬────────┐\n",
       "│ Project Status             ┆ counts │\n",
       "│ ---                        ┆ ---    │\n",
       "│ str                        ┆ u32    │\n",
       "╞════════════════════════════╪════════╡\n",
       "│ Completed                  ┆ 10     │\n",
       "│ In Execution               ┆ 83     │\n",
       "│ Pre-operational            ┆ 10     │\n",
       "│ Scaling or Expanding       ┆ 5      │\n",
       "│ Mature Project or Business ┆ 3      │\n",
       "│ Start-up to Early Stage    ┆ 3      │\n",
       "└────────────────────────────┴────────┘"
      ]
     },
     "execution_count": 4,
     "metadata": {},
     "output_type": "execute_result"
    }
   ],
   "source": [
    "df.select(\n",
    "    pl.col(\"Project Status\").unique(), pl.col(\"Project Status\").unique_counts().alias(\"counts\")\n",
    ")"
   ]
  },
  {
   "cell_type": "markdown",
   "metadata": {
    "collapsed": false
   },
   "source": [
    "## SDGs"
   ]
  },
  {
   "cell_type": "code",
   "execution_count": 5,
   "metadata": {
    "ExecuteTime": {
     "end_time": "2024-04-24T07:52:56.409972Z",
     "start_time": "2024-04-24T07:52:56.350487Z"
    },
    "collapsed": false
   },
   "outputs": [
    {
     "name": "stdout",
     "output_type": "stream",
     "text": [
      "[{\"name\": \"SDG 7 - Affordable and clean energy\"}, {\"name\": \"SDG 8 - Decent work and economic growth\"}, {\"name\": \"SDG 9 - Industry Innovation and Infrastructure\"}, {\"name\": \"SDG 11 - Sustainable Cities and Communities\"}, {\"name\": \"SDG 12 - Responsible production and consumption\"}, {\"name\": \"SDG 13 - Climate Action\"}, {\"name\": \"SDG 14 - Life below water\"}, {\"name\": \"SDG 15 - Life on land\"}, {\"name\": \"SDG 17 - Partnership for the goals\"}]\n"
     ]
    }
   ],
   "source": [
    "sdgs = df.select(pl.col(\"SDGs\").str.split(\"; \").list.explode()).unique().to_numpy().ravel()\n",
    "sdgs = sorted(sdgs, key=lambda x: int(x[4:6]))\n",
    "print(json.dumps([{\"name\": e} for e in sdgs]))"
   ]
  },
  {
   "cell_type": "markdown",
   "metadata": {
    "collapsed": false
   },
   "source": [
    "## Pillars"
   ]
  },
  {
   "cell_type": "code",
   "execution_count": 6,
   "metadata": {
    "ExecuteTime": {
     "end_time": "2024-04-24T07:52:56.414341Z",
     "start_time": "2024-04-24T07:52:56.410819Z"
    },
    "collapsed": false
   },
   "outputs": [
    {
     "name": "stdout",
     "output_type": "stream",
     "text": [
      "[{\"name\": \"90% Renewable Energy for All\"}, {\"name\": \"30 x 30 Nature Based Solutions\"}, {\"name\": \"Climate Smart Map\"}, {\"name\": \"1.5% New Green Jobs for Physical & Economic Resilience\"}]\n"
     ]
    }
   ],
   "source": [
    "pilars = df.select(pl.col(\"CCSA Pillar\")).unique()\n",
    "print(json.dumps([{\"name\": e} for e in list(pilars.to_numpy().ravel())]))"
   ]
  },
  {
   "cell_type": "markdown",
   "metadata": {
    "collapsed": false
   },
   "source": [
    "## Countries"
   ]
  },
  {
   "cell_type": "code",
   "execution_count": 7,
   "metadata": {
    "ExecuteTime": {
     "end_time": "2024-04-24T07:52:56.431967Z",
     "start_time": "2024-04-24T07:52:56.415272Z"
    },
    "collapsed": false
   },
   "outputs": [
    {
     "data": {
      "text/plain": [
       "['Dominican Republic',\n",
       " 'Jamaica',\n",
       " 'Guyana',\n",
       " 'Panama',\n",
       " 'British Virgin Islands',\n",
       " 'Belize',\n",
       " 'Bahamas',\n",
       " 'Bermuda',\n",
       " 'Honduras',\n",
       " 'Dominica',\n",
       " 'Curacao',\n",
       " 'Puerto Rico',\n",
       " 'Antigua and Barbuda',\n",
       " 'Trinidad & Tobago',\n",
       " 'Cayman',\n",
       " 'Mexico',\n",
       " 'St. Vincent & the Grenadines',\n",
       " 'Turks & Caicos Islands',\n",
       " 'Suriname',\n",
       " 'Montserrat',\n",
       " 'Haiti',\n",
       " 'Barbados',\n",
       " 'Anguilla',\n",
       " 'St. Kitts & Nevis',\n",
       " 'Costa Rica',\n",
       " 'Bonaire',\n",
       " 'Grenada',\n",
       " 'Regional',\n",
       " 'Aruba',\n",
       " 'Saint Lucia',\n",
       " 'US Virgin Islands',\n",
       " 'Japan']"
      ]
     },
     "execution_count": 7,
     "metadata": {},
     "output_type": "execute_result"
    }
   ],
   "source": [
    "countries = list(\n",
    "    df.select(pl.col(\"Operates in\").str.split(\"; \").list.explode()).unique().to_numpy().ravel()\n",
    ")\n",
    "countries"
   ]
  },
  {
   "cell_type": "markdown",
   "metadata": {
    "collapsed": false
   },
   "source": [
    "## get `IDs`\n",
    "\n",
    "Previous SDG and pillar JSONs must be loaded first into Strapi"
   ]
  },
  {
   "cell_type": "code",
   "execution_count": 8,
   "metadata": {
    "ExecuteTime": {
     "end_time": "2024-04-24T07:52:57.121959Z",
     "start_time": "2024-04-24T07:52:56.432911Z"
    },
    "collapsed": false
   },
   "outputs": [
    {
     "name": "stdout",
     "output_type": "stream",
     "text": [
      "{'SDG 7 - Affordable and clean energy': 1, 'SDG 8 - Decent work and economic growth': 2, 'SDG 9 - Industry Innovation and Infrastructure': 3, 'SDG 11 - Sustainable Cities and Communities': 4, 'SDG 12 - Responsible production and consumption': 5, 'SDG 13 - Climate Action': 6, 'SDG 14 - Life below water': 7, 'SDG 15 - Life on land': 8, 'SDG 17 - Partnership for the goals': 9}\n"
     ]
    }
   ],
   "source": [
    "sdg_ids = get_ids(\"sdgs\")\n",
    "print(sdg_ids)"
   ]
  },
  {
   "cell_type": "code",
   "execution_count": 9,
   "metadata": {
    "ExecuteTime": {
     "end_time": "2024-04-24T07:52:57.838387Z",
     "start_time": "2024-04-24T07:52:57.123442Z"
    },
    "collapsed": false
   },
   "outputs": [
    {
     "name": "stdout",
     "output_type": "stream",
     "text": [
      "{'1.5% New Green Jobs for Physical & Economic Resilience': 1, '30 x 30 Nature Based Solutions': 4, '90% Renewable Energy for All': 3, 'Climate Smart Map': 2}\n"
     ]
    }
   ],
   "source": [
    "pillar_ids = get_ids(\"pillars\")\n",
    "print(pillar_ids)"
   ]
  },
  {
   "cell_type": "code",
   "execution_count": 10,
   "metadata": {
    "ExecuteTime": {
     "end_time": "2024-04-24T07:52:59.479105Z",
     "start_time": "2024-04-24T07:52:57.840371Z"
    },
    "collapsed": false
   },
   "outputs": [
    {
     "name": "stdout",
     "output_type": "stream",
     "text": [
      "[('Anguilla', 919), ('Antigua and Barbuda', 920), ('Aruba', 918), ('Bahamas', 922), ('Barbados', 925), ('Belize', 923), ('Bermuda', 924), ('Bonaire, Sint Eustatius and Saba', 921), ('British Virgin Islands', 946), ('Cayman Islands', 928), ('Costa Rica', 926), ('Curaçao', 927), ('Dominica', 929), ('Dominican Republic', 930), ('Grenada', 932), ('Guadeloupe', 931), ('Guyana', 933), ('Haiti', 935), ('Honduras', 934), ('Jamaica', 936), ('Montserrat', 940), ('México', 939), ('Panama', 941), ('Puerto Rico', 948), ('Saint Kitts and Nevis', 937), ('Saint Lucia', 938), ('Saint Vincent and the Grenadines', 945), ('Suriname', 942), ('Trinidad and Tobago', 944), ('Turks and Caicos Islands', 943), ('Virgin Islands, U.S.', 947)]\n"
     ]
    }
   ],
   "source": [
    "country_ids = get_ids(\"countries\")\n",
    "print(sorted(country_ids.items(), key=lambda x: x[0]))"
   ]
  },
  {
   "cell_type": "markdown",
   "metadata": {
    "collapsed": false
   },
   "source": [
    "## Clean Data and make JSON"
   ]
  },
  {
   "cell_type": "code",
   "execution_count": 11,
   "metadata": {
    "ExecuteTime": {
     "end_time": "2024-04-24T07:52:59.485029Z",
     "start_time": "2024-04-24T07:52:59.480386Z"
    },
    "collapsed": false
   },
   "outputs": [
    {
     "name": "stdout",
     "output_type": "stream",
     "text": [
      "{'Curacao', 'Turks & Caicos Islands', 'Mexico', 'Cayman', 'St. Vincent & the Grenadines', 'US Virgin Islands', 'Bonaire', 'Regional', 'St. Kitts & Nevis', 'Trinidad & Tobago', 'Japan'}\n"
     ]
    }
   ],
   "source": [
    "# Countries that are not in the countries table in Strapi\n",
    "\n",
    "print(\n",
    "    set(df.select(pl.col(\"Operates in\").str.split(\"; \").list.explode()).unique().to_numpy().ravel())\n",
    "    - country_ids.keys()\n",
    ")"
   ]
  },
  {
   "cell_type": "code",
   "execution_count": 12,
   "metadata": {
    "ExecuteTime": {
     "end_time": "2024-04-24T07:52:59.516886Z",
     "start_time": "2024-04-24T07:52:59.486561Z"
    },
    "collapsed": false
   },
   "outputs": [],
   "source": [
    "countries_fix = {\n",
    "    \"Bonaire\": \"Bonaire, Sint Eustatius and Saba\",\n",
    "    \"Cayman\": \"Cayman Islands\",\n",
    "    \"Curacao\": \"Curaçao\",\n",
    "    \"Japan\": \"\",\n",
    "    \"Mexico\": \"México\",\n",
    "    \"Regional\": \"\",\n",
    "    \"St. Kitts & Nevis\": \"Saint Kitts and Nevis\",\n",
    "    \"St. Vincent & the Grenadines\": \"Saint Vincent and the Grenadines\",\n",
    "    \"Trinidad & Tobago\": \"Trinidad and Tobago\",\n",
    "    \"Turks & Caicos Islands\": \"Turks and Caicos Islands\",\n",
    "    \"US Virgin Islands\": \"Virgin Islands, U.S.\",\n",
    "}\n",
    "\n",
    "df = df.with_columns(\n",
    "    pl.col(\"Operates in\")\n",
    "    .str.split(\"; \")\n",
    "    .list.eval(\n",
    "        pl.when(pl.element().is_in(countries_fix.keys()))\n",
    "        .then(pl.element().replace(countries_fix, default=None))\n",
    "        .otherwise(pl.element())\n",
    "    ),\n",
    ")"
   ]
  },
  {
   "cell_type": "code",
   "execution_count": 13,
   "metadata": {
    "ExecuteTime": {
     "end_time": "2024-04-24T07:52:59.521625Z",
     "start_time": "2024-04-24T07:52:59.518017Z"
    },
    "collapsed": false
   },
   "outputs": [
    {
     "name": "stdout",
     "output_type": "stream",
     "text": [
      "shape: (0, 12)\n",
      "┌─────────┬─────────────┬─────────┬───────────┬───┬──────┬────────┬────────────────────┬───────────┐\n",
      "│ Project ┆ Project     ┆ Project ┆ Objective ┆ … ┆ SDGs ┆ CCSA   ┆ Organization Type  ┆ More Info │\n",
      "│ Name    ┆ Description ┆ Status  ┆ ---       ┆   ┆ ---  ┆ Pillar ┆ ---                ┆ ---       │\n",
      "│ ---     ┆ ---         ┆ ---     ┆ str       ┆   ┆ str  ┆ ---    ┆ str                ┆ str       │\n",
      "│ str     ┆ str         ┆ str     ┆           ┆   ┆      ┆ str    ┆                    ┆           │\n",
      "╞═════════╪═════════════╪═════════╪═══════════╪═══╪══════╪════════╪════════════════════╪═══════════╡\n",
      "└─────────┴─────────────┴─────────┴───────────┴───┴──────┴────────┴────────────────────┴───────────┘\n"
     ]
    }
   ],
   "source": [
    "# count the nulls\n",
    "print(df.filter(pl.col(\"Operates in\").list.eval(pl.element().is_null()).list.any()))"
   ]
  },
  {
   "cell_type": "code",
   "execution_count": 14,
   "metadata": {
    "ExecuteTime": {
     "end_time": "2024-04-24T07:52:59.535499Z",
     "start_time": "2024-04-24T07:52:59.522502Z"
    },
    "collapsed": false
   },
   "outputs": [
    {
     "name": "stdout",
     "output_type": "stream",
     "text": [
      "shape: (6, 12)\n",
      "┌───────────┬───────────┬───────────┬───────────┬───┬───────────┬───────────┬───────────┬──────────┐\n",
      "│ Project   ┆ Project   ┆ Project   ┆ Objective ┆ … ┆ SDGs      ┆ CCSA      ┆ Organizat ┆ More     │\n",
      "│ Name      ┆ Descripti ┆ Status    ┆ ---       ┆   ┆ ---       ┆ Pillar    ┆ ion Type  ┆ Info     │\n",
      "│ ---       ┆ on        ┆ ---       ┆ str       ┆   ┆ list[i64] ┆ ---       ┆ ---       ┆ ---      │\n",
      "│ str       ┆ ---       ┆ str       ┆           ┆   ┆           ┆ i64       ┆ str       ┆ str      │\n",
      "│           ┆ str       ┆           ┆           ┆   ┆           ┆           ┆           ┆          │\n",
      "╞═══════════╪═══════════╪═══════════╪═══════════╪═══╪═══════════╪═══════════╪═══════════╪══════════╡\n",
      "│ Building  ┆ To build  ┆ Pre-opera ┆ Project   ┆ … ┆ [6, 9]    ┆ 2         ┆ Nonprofit ┆ https:// │\n",
      "│ Climate   ┆ instituti ┆ tional    ┆ is being  ┆   ┆           ┆           ┆           ┆ www.cari │\n",
      "│ Resilienc ┆ onal      ┆           ┆ prepared  ┆   ┆           ┆           ┆           ┆ cad.net/ │\n",
      "│ e Gove…   ┆ capacity  ┆           ┆ for sh…   ┆   ┆           ┆           ┆           ┆          │\n",
      "│           ┆ …         ┆           ┆           ┆   ┆           ┆           ┆           ┆          │\n",
      "│ Business  ┆ Since     ┆ In        ┆ This      ┆ … ┆ [6, 9]    ┆ 4         ┆ Nonprofit ┆ null     │\n",
      "│ Continuit ┆ 1950 over ┆ Execution ┆ project   ┆   ┆           ┆           ┆           ┆          │\n",
      "│ y and     ┆ 63% of    ┆           ┆ has been  ┆   ┆           ┆           ┆           ┆          │\n",
      "│ Coastal … ┆ the       ┆           ┆ delivered ┆   ┆           ┆           ┆           ┆          │\n",
      "│           ┆ world…    ┆           ┆           ┆   ┆           ┆           ┆           ┆          │\n",
      "│ Develop a ┆ Developin ┆ In        ┆ This      ┆ … ┆ [1, 2, …  ┆ 2         ┆ Nonprofit ┆ null     │\n",
      "│ Regional  ┆ g a       ┆ Execution ┆ project   ┆   ┆ 9]        ┆           ┆           ┆          │\n",
      "│ Resilienc ┆ scorecard ┆           ┆ has been  ┆   ┆           ┆           ┆           ┆          │\n",
      "│ e Sc…     ┆ that      ┆           ┆ delivered ┆   ┆           ┆           ┆           ┆          │\n",
      "│           ┆ coun…     ┆           ┆           ┆   ┆           ┆           ┆           ┆          │\n",
      "│ Phase 1:  ┆ Caribbean ┆ Completed ┆ This      ┆ … ┆ [1, 2, …  ┆ 3         ┆ For-profi ┆ null     │\n",
      "│ Solar     ┆ nations   ┆           ┆ project   ┆   ┆ 9]        ┆           ┆ t         ┆          │\n",
      "│ Panel     ┆ need to   ┆           ┆ has been  ┆   ┆           ┆           ┆           ┆          │\n",
      "│ Assembly  ┆ instal…   ┆           ┆ delivered ┆   ┆           ┆           ┆           ┆          │\n",
      "│ Phase 2:  ┆ A         ┆ Start-up  ┆ Incubatio ┆ … ┆ [1, 2, …  ┆ 3         ┆ For-profi ┆ null     │\n",
      "│ Build     ┆ regional  ┆ to Early  ┆ n         ┆   ┆ 9]        ┆           ┆ t         ┆          │\n",
      "│ Caribbean ┆ blended   ┆ Stage     ┆           ┆   ┆           ┆           ┆           ┆          │\n",
      "│ Blended…  ┆ financial ┆           ┆           ┆   ┆           ┆           ┆           ┆          │\n",
      "│           ┆ fun…      ┆           ┆           ┆   ┆           ┆           ┆           ┆          │\n",
      "│ Regenerat ┆ The       ┆ In        ┆ This      ┆ … ┆ [6, 7, …  ┆ 4         ┆ Nonprofit ┆ null     │\n",
      "│ ing the   ┆ objective ┆ Execution ┆ project   ┆   ┆ 9]        ┆           ┆           ┆          │\n",
      "│ Blue      ┆ is to     ┆           ┆ has been  ┆   ┆           ┆           ┆           ┆          │\n",
      "│ Forests   ┆ build a   ┆           ┆ delivered ┆   ┆           ┆           ┆           ┆          │\n",
      "│ of…       ┆ comm…     ┆           ┆           ┆   ┆           ┆           ┆           ┆          │\n",
      "└───────────┴───────────┴───────────┴───────────┴───┴───────────┴───────────┴───────────┴──────────┘\n"
     ]
    }
   ],
   "source": [
    "# map pillar, SDG and countries to corresponding IDs\n",
    "df_with_ids = df.with_columns(\n",
    "    pl.col(\"SDGs\").str.split(\"; \").list.eval(pl.element().replace(sdg_ids, default=None)),\n",
    "    pl.col(\"CCSA Pillar\").replace(pillar_ids, default=None),\n",
    "    pl.col(\"Operates in\").list.eval(pl.element().replace(country_ids, default=None)),\n",
    ")\n",
    "\n",
    "column_names = {\n",
    "    \"CCSA Pillar\": \"pillar\",\n",
    "    \"Project Name\": \"name\",\n",
    "    \"Project Description\": \"highlight\",\n",
    "    \"Project Status\": \"status\",\n",
    "    \"Project Needs\": \"funding\",\n",
    "    # \"Account Name\": \"account\",\n",
    "    \"Project Value\": \"amount\",\n",
    "    \"SDGs\": \"sdgs\",\n",
    "    \"Operates in\": \"countries\",\n",
    "    \"Source Country\": \"source_country\",\n",
    "    \"Organization Type\": \"organization_type\",\n",
    "    \"Objective\": \"objective\",\n",
    "    \"More Info\": \"info\"\n",
    "\n",
    "}\n",
    "# count the nulls\n",
    "print(df_with_ids.filter(pl.col(\"Operates in\").list.eval(pl.element().is_null()).list.any()))"
   ]
  },
  {
   "cell_type": "code",
   "execution_count": 15,
   "metadata": {
    "ExecuteTime": {
     "end_time": "2024-04-24T07:52:59.547111Z",
     "start_time": "2024-04-24T07:52:59.536521Z"
    }
   },
   "outputs": [
    {
     "data": {
      "text/plain": [
       "['Project Name',\n",
       " 'Project Description',\n",
       " 'Project Status',\n",
       " 'Objective',\n",
       " 'Project Value',\n",
       " 'Project Needs',\n",
       " 'Operates in',\n",
       " 'Source Country',\n",
       " 'SDGs',\n",
       " 'CCSA Pillar',\n",
       " 'Organization Type',\n",
       " 'More Info']"
      ]
     },
     "execution_count": 15,
     "metadata": {},
     "output_type": "execute_result"
    }
   ],
   "source": [
    "df.columns"
   ]
  },
  {
   "cell_type": "code",
   "execution_count": 16,
   "metadata": {
    "ExecuteTime": {
     "end_time": "2024-04-24T07:52:59.557759Z",
     "start_time": "2024-04-24T07:52:59.548091Z"
    },
    "collapsed": false
   },
   "outputs": [],
   "source": [
    "df_with_ids.select(*column_names.keys()).rename(column_names).write_json(\n",
    "    \"../data/projects.json\", pretty=True, row_oriented=True\n",
    ")"
   ]
  },
  {
   "cell_type": "code",
   "execution_count": 17,
   "metadata": {
    "ExecuteTime": {
     "end_time": "2024-04-24T07:52:59.574178Z",
     "start_time": "2024-04-24T07:52:59.558933Z"
    }
   },
   "outputs": [
    {
     "data": {
      "text/plain": [
       "114"
      ]
     },
     "execution_count": 17,
     "metadata": {},
     "output_type": "execute_result"
    }
   ],
   "source": [
    "len(df_with_ids)"
   ]
  },
  {
   "cell_type": "code",
   "execution_count": 17,
   "metadata": {
    "ExecuteTime": {
     "end_time": "2024-04-24T07:52:59.577046Z",
     "start_time": "2024-04-24T07:52:59.575165Z"
    }
   },
   "outputs": [],
   "source": []
  }
 ],
 "metadata": {
  "kernelspec": {
   "display_name": "Python 3",
   "language": "python",
   "name": "python3"
  },
  "language_info": {
   "codemirror_mode": {
    "name": "ipython",
    "version": 3
   },
   "file_extension": ".py",
   "mimetype": "text/x-python",
   "name": "python",
   "nbconvert_exporter": "python",
   "pygments_lexer": "ipython3",
   "version": "3.12.2"
  }
 },
 "nbformat": 4,
 "nbformat_minor": 0
}
