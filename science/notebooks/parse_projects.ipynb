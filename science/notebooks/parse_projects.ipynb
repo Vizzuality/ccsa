{
 "cells": [
  {
   "attachments": {},
   "cell_type": "markdown",
   "metadata": {
    "collapsed": false
   },
   "source": [
    "# Parse Projects `xlsx`"
   ]
  },
  {
   "cell_type": "code",
   "execution_count": 40,
   "metadata": {
    "ExecuteTime": {
     "end_time": "2023-11-13T11:30:21.133623487Z",
     "start_time": "2023-11-13T11:30:21.089350393Z"
    },
    "collapsed": false
   },
   "outputs": [
    {
     "data": {
      "text/plain": "True"
     },
     "execution_count": 40,
     "metadata": {},
     "output_type": "execute_result"
    }
   ],
   "source": [
    "import json\n",
    "\n",
    "import dotenv\n",
    "import polars as pl\n",
    "\n",
    "from .utils import get_ids\n",
    "\n",
    "dotenv.load_dotenv(\"../../.env\")"
   ]
  },
  {
   "cell_type": "code",
   "execution_count": 41,
   "metadata": {
    "ExecuteTime": {
     "end_time": "2023-11-13T11:30:24.150590859Z",
     "start_time": "2023-11-13T11:30:24.143439005Z"
    },
    "collapsed": false
   },
   "outputs": [],
   "source": [
    "df = pl.read_csv(\"../data/CLEAN-Climate-Smart Map2023-11-07-16-59-55.csv\")\n",
    "# parse money\n",
    "df = df.with_columns(\n",
    "    pl.col(\"Total Amount\").str.strip_prefix(\"$\").str.replace_all(\",\", \"\").cast(pl.Float32)\n",
    ")"
   ]
  },
  {
   "cell_type": "markdown",
   "metadata": {
    "collapsed": false
   },
   "source": [
    "## SDGs"
   ]
  },
  {
   "cell_type": "code",
   "execution_count": 42,
   "metadata": {
    "ExecuteTime": {
     "end_time": "2023-11-13T11:30:26.022446077Z",
     "start_time": "2023-11-13T11:30:26.016500997Z"
    },
    "collapsed": false
   },
   "outputs": [
    {
     "name": "stdout",
     "output_type": "stream",
     "text": [
      "[{\"name\": \"SDG 7 - Affordable and clean energy\"}, {\"name\": \"SDG 8 - Decent work and economic growth\"}, {\"name\": \"SDG 9 - Industry Innovation and Infrastructure\"}, {\"name\": \"SDG 11 - Sustainable Cities and Communities\"}, {\"name\": \"SDG 12 - Responsible production and consumption\"}, {\"name\": \"SDG 13 - Climate Action\"}, {\"name\": \"SDG 14 - Life below water\"}, {\"name\": \"SDG 15 - Life on land\"}, {\"name\": \"SDG 17 - Partnership for the goals\"}]\n"
     ]
    }
   ],
   "source": [
    "sdgs = df.select(pl.col(\"SDG\").str.split(\"; \").list.explode()).unique().to_numpy().ravel()\n",
    "sdgs = sorted(sdgs, key=lambda x: int(x[4:6]))\n",
    "print(json.dumps([{\"name\": e} for e in sdgs]))"
   ]
  },
  {
   "cell_type": "markdown",
   "metadata": {
    "collapsed": false
   },
   "source": [
    "## Pillars"
   ]
  },
  {
   "cell_type": "code",
   "execution_count": 43,
   "metadata": {
    "ExecuteTime": {
     "end_time": "2023-11-13T11:30:27.372699333Z",
     "start_time": "2023-11-13T11:30:27.367614635Z"
    },
    "collapsed": false
   },
   "outputs": [
    {
     "name": "stdout",
     "output_type": "stream",
     "text": [
      "[{\"name\": \"Climate Smart Map\"}, {\"name\": \"1.5% New Green Jobs for Physical & Economic Resilience\"}, {\"name\": \"30 x 30 Nature Based Solutions\"}, {\"name\": \"90% Renewable Energy for All\"}]\n"
     ]
    }
   ],
   "source": [
    "pilars = df.select(pl.col(\"Pillar\")).unique()\n",
    "print(json.dumps([{\"name\": e} for e in list(pilars.to_numpy().ravel())]))"
   ]
  },
  {
   "cell_type": "markdown",
   "metadata": {
    "collapsed": false
   },
   "source": [
    "## Countries"
   ]
  },
  {
   "cell_type": "code",
   "execution_count": 44,
   "metadata": {
    "ExecuteTime": {
     "end_time": "2023-11-13T11:30:30.637467754Z",
     "start_time": "2023-11-13T11:30:30.629721295Z"
    },
    "collapsed": false
   },
   "outputs": [],
   "source": [
    "countries = list(\n",
    "    df.select(pl.col(\"Country\").str.split(\"; \").list.explode()).unique().to_numpy().ravel()\n",
    ")"
   ]
  },
  {
   "cell_type": "markdown",
   "metadata": {
    "collapsed": false
   },
   "source": [
    "## get `IDs`\n",
    "\n",
    "Previous SDG and pillar JSONs must be loaded first into Strapi"
   ]
  },
  {
   "cell_type": "code",
   "execution_count": 46,
   "metadata": {
    "ExecuteTime": {
     "end_time": "2023-11-13T11:30:35.118995454Z",
     "start_time": "2023-11-13T11:30:34.380630544Z"
    },
    "collapsed": false
   },
   "outputs": [
    {
     "name": "stdout",
     "output_type": "stream",
     "text": [
      "{'SDG 7 - Affordable and clean energy': 1, 'SDG 8 - Decent work and economic growth': 2, 'SDG 9 - Industry Innovation and Infrastructure': 3, 'SDG 11 - Sustainable Cities and Communities': 4, 'SDG 12 - Responsible production and consumption': 5, 'SDG 13 - Climate Action': 6, 'SDG 14 - Life below water': 7, 'SDG 15 - Life on land': 8, 'SDG 17 - Partnership for the goals': 9}\n"
     ]
    }
   ],
   "source": [
    "sdg_ids = get_ids(\"sdgs\")\n",
    "print(sdg_ids)"
   ]
  },
  {
   "cell_type": "code",
   "execution_count": 47,
   "metadata": {
    "ExecuteTime": {
     "end_time": "2023-11-13T11:30:35.886994523Z",
     "start_time": "2023-11-13T11:30:35.320495966Z"
    },
    "collapsed": false
   },
   "outputs": [
    {
     "name": "stdout",
     "output_type": "stream",
     "text": [
      "{'1.5% New Green Jobs for Physical & Economic Resilience': 1, 'Climate Smart Map': 2, '90% Renewable Energy for All': 3, '30 x 30 Nature Based Solutions': 4}\n"
     ]
    }
   ],
   "source": [
    "pillar_ids = get_ids(\"pillars\")\n",
    "print(pillar_ids)"
   ]
  },
  {
   "cell_type": "code",
   "execution_count": 48,
   "metadata": {
    "ExecuteTime": {
     "end_time": "2023-11-13T11:30:37.823268918Z",
     "start_time": "2023-11-13T11:30:35.999846074Z"
    },
    "collapsed": false
   },
   "outputs": [
    {
     "name": "stdout",
     "output_type": "stream",
     "text": [
      "[('Anguilla', 919), ('Antigua and Barbuda', 920), ('Aruba', 918), ('Bahamas', 922), ('Barbados', 925), ('Belize', 923), ('Bermuda', 924), ('Bonaire, Sint Eustatius and Saba', 921), ('British Virgin Islands', 946), ('Cayman Islands', 928), ('Costa Rica', 926), ('Curaçao', 927), ('Dominica', 929), ('Dominican Republic', 930), ('Grenada', 932), ('Guadeloupe', 931), ('Guyana', 933), ('Haiti', 935), ('Honduras', 934), ('Jamaica', 936), ('Montserrat', 940), ('México', 939), ('Panama', 941), ('Puerto Rico', 948), ('Saint Kitts and Nevis', 937), ('Saint Lucia', 938), ('Saint Vincent and the Grenadines', 945), ('Suriname', 942), ('Trinidad and Tobago', 944), ('Turks and Caicos Islands', 943), ('Virgin Islands, U.S.', 947)]\n"
     ]
    }
   ],
   "source": [
    "country_ids = get_ids(\"countries\")\n",
    "print(sorted(country_ids.items(), key=lambda x: x[0]))"
   ]
  },
  {
   "cell_type": "markdown",
   "metadata": {
    "collapsed": false
   },
   "source": [
    "## Clean Data and make JSON"
   ]
  },
  {
   "cell_type": "code",
   "execution_count": 49,
   "metadata": {
    "ExecuteTime": {
     "end_time": "2023-11-13T11:30:42.208769084Z",
     "start_time": "2023-11-13T11:30:42.201866664Z"
    },
    "collapsed": false
   },
   "outputs": [
    {
     "data": {
      "text/plain": "{'Bonaire',\n 'Cayman',\n 'Curacao',\n 'Japan',\n 'Mexico',\n 'Regional',\n 'St. Kitts & Nevis',\n 'St. Vincent & the Grenadines',\n 'Trinidad & Tobago',\n 'Turks & Caicos Islands',\n 'US Virgin Islands'}"
     },
     "execution_count": 49,
     "metadata": {},
     "output_type": "execute_result"
    }
   ],
   "source": [
    "# Countries that are not in the countries table in Strapi\n",
    "\n",
    "(\n",
    "    set(df.select(pl.col(\"Country\").str.split(\"; \").list.explode()).unique().to_numpy().ravel())\n",
    "    - country_ids.keys()\n",
    ")"
   ]
  },
  {
   "cell_type": "code",
   "execution_count": 50,
   "metadata": {
    "ExecuteTime": {
     "end_time": "2023-11-13T11:32:44.426841248Z",
     "start_time": "2023-11-13T11:32:44.385252282Z"
    },
    "collapsed": false
   },
   "outputs": [
    {
     "name": "stderr",
     "output_type": "stream",
     "text": [
      "The predicate 'col(\"\").is_in([Series])' in 'when->then->otherwise' is not a valid aggregation and might produce a different number of rows than the group_by operation would. This behavior is experimental and may be subject to change\n"
     ]
    },
    {
     "data": {
      "text/html": "<div><style>\n.dataframe > thead > tr > th,\n.dataframe > tbody > tr > td {\n  text-align: right;\n  white-space: pre-wrap;\n}\n</style>\n<small>shape: (131, 7)</small><table border=\"1\" class=\"dataframe\"><thead><tr><th>Pillar</th><th>Opportunity Name</th><th>Project Highlight</th><th>Account Name</th><th>Total Amount</th><th>SDG</th><th>Country</th></tr><tr><td>str</td><td>str</td><td>str</td><td>str</td><td>f32</td><td>str</td><td>list[str]</td></tr></thead><tbody><tr><td>&quot;1.5% New Green…</td><td>&quot;Greening infra…</td><td>&quot;Solving the  p…</td><td>&quot;CRDC Global&quot;</td><td>1.8e6</td><td>&quot;SDG 8 - Decent…</td><td>[&quot;Barbados&quot;, &quot;Jamaica&quot;, &quot;Trinidad and Tobago&quot;]</td></tr><tr><td>&quot;1.5% New Green…</td><td>&quot;Resilient Fish…</td><td>null</td><td>&quot;Organisation o…</td><td>2.8e6</td><td>&quot;SDG 7 - Afford…</td><td>[&quot;Anguilla&quot;, &quot;Antigua and Barbuda&quot;, … &quot;Saint Vincent and the Grenadines&quot;]</td></tr><tr><td>&quot;1.5% New Green…</td><td>&quot;Resilient Boat…</td><td>null</td><td>&quot;Organisation o…</td><td>2e6</td><td>&quot;SDG 11 - Susta…</td><td>[&quot;Anguilla&quot;, &quot;Antigua and Barbuda&quot;, … &quot;Saint Vincent and the Grenadines&quot;]</td></tr><tr><td>&quot;1.5% New Green…</td><td>&quot;Climate Smart …</td><td>null</td><td>null</td><td>625000.0</td><td>&quot;SDG 8 - Decent…</td><td>[&quot;Jamaica&quot;]</td></tr><tr><td>&quot;1.5% New Green…</td><td>&quot;Sustainable To…</td><td>null</td><td>&quot;Organisation o…</td><td>3e7</td><td>&quot;SDG 8 - Decent…</td><td>[&quot;Anguilla&quot;, &quot;Antigua and Barbuda&quot;, … &quot;Saint Vincent and the Grenadines&quot;]</td></tr><tr><td>&quot;1.5% New Green…</td><td>&quot;Village Touris…</td><td>null</td><td>&quot;Organisation o…</td><td>3.5e6</td><td>&quot;SDG 8 - Decent…</td><td>[&quot;Anguilla&quot;, &quot;Antigua and Barbuda&quot;, … &quot;Saint Vincent and the Grenadines&quot;]</td></tr><tr><td>&quot;1.5% New Green…</td><td>&quot;Kalinago Artis…</td><td>null</td><td>&quot;Organisation o…</td><td>2e6</td><td>&quot;SDG 8 - Decent…</td><td>[&quot;Anguilla&quot;, &quot;Antigua and Barbuda&quot;, … &quot;Saint Vincent and the Grenadines&quot;]</td></tr><tr><td>&quot;1.5% New Green…</td><td>&quot;Fisheries Cent…</td><td>null</td><td>&quot;Organisation o…</td><td>5.4e6</td><td>&quot;SDG 8 - Decent…</td><td>[&quot;Anguilla&quot;, &quot;Antigua and Barbuda&quot;, … &quot;Saint Vincent and the Grenadines&quot;]</td></tr><tr><td>&quot;1.5% New Green…</td><td>&quot;Hillsborough F…</td><td>null</td><td>&quot;Organisation o…</td><td>2.81e7</td><td>&quot;SDG 8 - Decent…</td><td>[&quot;Anguilla&quot;, &quot;Antigua and Barbuda&quot;, … &quot;Saint Vincent and the Grenadines&quot;]</td></tr><tr><td>&quot;1.5% New Green…</td><td>&quot;Green Energy J…</td><td>null</td><td>&quot;Bermuda&quot;</td><td>0.0</td><td>&quot;SDG 7 - Afford…</td><td>[&quot;Bermuda&quot;]</td></tr><tr><td>&quot;1.5% New Green…</td><td>&quot;Skeet&#x27;s Bay Ma…</td><td>null</td><td>&quot;Westpoint Culi…</td><td>864000.0</td><td>&quot;SDG 8 - Decent…</td><td>[&quot;Barbados&quot;]</td></tr><tr><td>&quot;1.5% New Green…</td><td>&quot;Kalinago Fish …</td><td>null</td><td>&quot;Organisation o…</td><td>1.9e6</td><td>&quot;SDG 8 - Decent…</td><td>[&quot;Anguilla&quot;, &quot;Antigua and Barbuda&quot;, … &quot;Saint Vincent and the Grenadines&quot;]</td></tr><tr><td>&hellip;</td><td>&hellip;</td><td>&hellip;</td><td>&hellip;</td><td>&hellip;</td><td>&hellip;</td><td>&hellip;</td></tr><tr><td>&quot;30 x 30 Nature…</td><td>&quot;Eco Skywater&quot;</td><td>&quot;Sustainable dr…</td><td>&quot;Eco Skywater&quot;</td><td>3.5e6</td><td>&quot;SDG 8 - Decent…</td><td>[&quot;Barbados&quot;]</td></tr><tr><td>&quot;30 x 30 Nature…</td><td>&quot;Gems Agricultu…</td><td>&quot;Agrotourism im…</td><td>&quot;Global Enterpr…</td><td>2.5e7</td><td>&quot;SDG 8 - Decent…</td><td>[&quot;Saint Lucia&quot;]</td></tr><tr><td>&quot;30 x 30 Nature…</td><td>&quot;Seacosystems&quot;</td><td>null</td><td>&quot;Seacosystems&quot;</td><td>4.6e6</td><td>&quot;SDG 8 - Decent…</td><td>[&quot;Virgin Islands, U.S.&quot;]</td></tr><tr><td>&quot;30 x 30 Nature…</td><td>&quot;Sargassum to c…</td><td>null</td><td>&quot;Awganic Inputs…</td><td>4.72e6</td><td>&quot;SDG 8 - Decent…</td><td>[&quot;Jamaica&quot;]</td></tr><tr><td>&quot;Climate Smart …</td><td>&quot;Develop a Regi…</td><td>&quot;The tool will …</td><td>&quot;Caribbean Clim…</td><td>323000.0</td><td>&quot;SDG 7 - Afford…</td><td>[&quot;Dominica&quot;]</td></tr><tr><td>&quot;Climate Smart …</td><td>&quot;Climate Smart …</td><td>&quot;The Climate-Sm…</td><td>&quot;Caribbean Clim…</td><td>234000.0</td><td>&quot;SDG 13 - Clima…</td><td>[&quot;Anguilla&quot;, &quot;Antigua and Barbuda&quot;, … &quot;Virgin Islands, U.S.&quot;]</td></tr><tr><td>&quot;Climate Smart …</td><td>&quot;Building Clima…</td><td>&quot;To build insti…</td><td>&quot;Caribbean Cent…</td><td>2.294e6</td><td>&quot;SDG 13 - Clima…</td><td>[&quot;Anguilla&quot;, &quot;Antigua and Barbuda&quot;, … &quot;Virgin Islands, U.S.&quot;]</td></tr><tr><td>&quot;Climate Smart …</td><td>&quot;Caribbean Coll…</td><td>&quot;Match philanth…</td><td>&quot;ELMA Philanthr…</td><td>1e7</td><td>&quot;SDG 7 - Afford…</td><td>[&quot;Anguilla&quot;, &quot;Antigua and Barbuda&quot;, … &quot;Virgin Islands, U.S.&quot;]</td></tr><tr><td>&quot;Climate Smart …</td><td>&quot;The Financial …</td><td>&quot;The Financial …</td><td>&quot;Caribbean Clim…</td><td>0.0</td><td>&quot;SDG 17 - Partn…</td><td>[&quot;Anguilla&quot;, &quot;Antigua and Barbuda&quot;, … &quot;Trinidad and Tobago&quot;]</td></tr><tr><td>&quot;Climate Smart …</td><td>&quot;Project Concep…</td><td>null</td><td>&quot;Jamaica Enviro…</td><td>0.0</td><td>&quot;SDG 11 - Susta…</td><td>[&quot;Jamaica&quot;]</td></tr><tr><td>&quot;Climate Smart …</td><td>&quot;Eastern Caribb…</td><td>&quot;ECSC seeks to …</td><td>&quot;Rocky Mountain…</td><td>9.965e6</td><td>&quot;SDG 7 - Afford…</td><td>[&quot;Anguilla&quot;, &quot;Antigua and Barbuda&quot;, … &quot;Saint Vincent and the Grenadines&quot;]</td></tr><tr><td>&quot;Climate Smart …</td><td>&quot;Climate-Povert…</td><td>null</td><td>&quot;Caribbean Natu…</td><td>2.500002e6</td><td>&quot;SDG 8 - Decent…</td><td>[&quot;Antigua and Barbuda&quot;, &quot;Bahamas&quot;, … &quot;Trinidad and Tobago&quot;]</td></tr></tbody></table></div>",
      "text/plain": "shape: (131, 7)\n┌──────────────┬─────────────┬─────────────┬─────────────┬─────────────┬─────────────┬─────────────┐\n│ Pillar       ┆ Opportunity ┆ Project     ┆ Account     ┆ Total       ┆ SDG         ┆ Country     │\n│ ---          ┆ Name        ┆ Highlight   ┆ Name        ┆ Amount      ┆ ---         ┆ ---         │\n│ str          ┆ ---         ┆ ---         ┆ ---         ┆ ---         ┆ str         ┆ list[str]   │\n│              ┆ str         ┆ str         ┆ str         ┆ f32         ┆             ┆             │\n╞══════════════╪═════════════╪═════════════╪═════════════╪═════════════╪═════════════╪═════════════╡\n│ 1.5% New     ┆ Greening    ┆ Solving the ┆ CRDC Global ┆ 1.8e6       ┆ SDG 8 -     ┆ [\"Barbados\" │\n│ Green Jobs   ┆ infrastruct ┆ plastic     ┆             ┆             ┆ Decent work ┆ ,           │\n│ for          ┆ ure solving ┆ crisis in   ┆             ┆             ┆ and         ┆ \"Jamaica\",  │\n│ Physical…    ┆ …           ┆ t…          ┆             ┆             ┆ economic…   ┆ \"Trinida…   │\n│ 1.5% New     ┆ Resilient   ┆ null        ┆ Organisatio ┆ 2.8e6       ┆ SDG 7 -     ┆ [\"Anguilla\" │\n│ Green Jobs   ┆ Fisheries   ┆             ┆ n of        ┆             ┆ Affordable  ┆ , \"Antigua  │\n│ for          ┆ Facilities  ┆             ┆ Eastern     ┆             ┆ and clean   ┆ and Barbud… │\n│ Physical…    ┆             ┆             ┆ Caribbea…   ┆             ┆ ene…        ┆             │\n│ 1.5% New     ┆ Resilient   ┆ null        ┆ Organisatio ┆ 2e6         ┆ SDG 11 -    ┆ [\"Anguilla\" │\n│ Green Jobs   ┆ Boat        ┆             ┆ n of        ┆             ┆ Sustainable ┆ , \"Antigua  │\n│ for          ┆ Storage     ┆             ┆ Eastern     ┆             ┆ Cities and  ┆ and Barbud… │\n│ Physical…    ┆ Facilitie…  ┆             ┆ Caribbea…   ┆             ┆ …           ┆             │\n│ 1.5% New     ┆ Climate     ┆ null        ┆ null        ┆ 625000.0    ┆ SDG 8 -     ┆ [\"Jamaica\"] │\n│ Green Jobs   ┆ Smart       ┆             ┆             ┆             ┆ Decent work ┆             │\n│ for          ┆ Scallion    ┆             ┆             ┆             ┆ and         ┆             │\n│ Physical…    ┆ Farms       ┆             ┆             ┆             ┆ economic…   ┆             │\n│ …            ┆ …           ┆ …           ┆ …           ┆ …           ┆ …           ┆ …           │\n│ Climate      ┆ The         ┆ The         ┆ Caribbean   ┆ 0.0         ┆ SDG 17 -    ┆ [\"Anguilla\" │\n│ Smart Map    ┆ Financial   ┆ Financial   ┆ Climate-Sma ┆             ┆ Partnership ┆ , \"Antigua  │\n│              ┆ Advisory    ┆ Advisory    ┆ rt          ┆             ┆ for the     ┆ and Barbud… │\n│              ┆ Committee   ┆ Committee…  ┆ Accelera…   ┆             ┆ goa…        ┆             │\n│ Climate      ┆ Project     ┆ null        ┆ Jamaica     ┆ 0.0         ┆ SDG 11 -    ┆ [\"Jamaica\"] │\n│ Smart Map    ┆ Concept for ┆             ┆ Environment ┆             ┆ Sustainable ┆             │\n│              ┆ Schools’    ┆             ┆ Trust       ┆             ┆ Cities and  ┆             │\n│              ┆ Env…        ┆             ┆             ┆             ┆ …           ┆             │\n│ Climate      ┆ Eastern     ┆ ECSC seeks  ┆ Rocky       ┆ 9.965e6     ┆ SDG 7 -     ┆ [\"Anguilla\" │\n│ Smart Map    ┆ Caribbean   ┆ to increase ┆ Mountain    ┆             ┆ Affordable  ┆ , \"Antigua  │\n│              ┆ Solar       ┆ the use a…  ┆ Institute   ┆             ┆ and clean   ┆ and Barbud… │\n│              ┆ Challeng…   ┆             ┆ (RMI)       ┆             ┆ ene…        ┆             │\n│ Climate      ┆ Climate-Pov ┆ null        ┆ Caribbean   ┆ 2.500002e6  ┆ SDG 8 -     ┆ [\"Antigua   │\n│ Smart Map    ┆ erty Nexus  ┆             ┆ Natural     ┆             ┆ Decent work ┆ and         │\n│              ┆ Solutions … ┆             ┆ Resources   ┆             ┆ and         ┆ Barbuda\",   │\n│              ┆             ┆             ┆ Inst…       ┆             ┆ economic…   ┆ \"Bahamas…   │\n└──────────────┴─────────────┴─────────────┴─────────────┴─────────────┴─────────────┴─────────────┘"
     },
     "execution_count": 50,
     "metadata": {},
     "output_type": "execute_result"
    }
   ],
   "source": [
    "countries_fix = {\n",
    "    \"Bonaire\": \"Bonaire, Sint Eustatius and Saba\",\n",
    "    \"Cayman\": \"Cayman Islands\",\n",
    "    \"Curacao\": \"Curaçao\",\n",
    "    \"Japan\": \"\",\n",
    "    \"Mexico\": \"México\",\n",
    "    \"Regional\": \"\",\n",
    "    \"St. Kitts & Nevis\": \"Saint Kitts and Nevis\",\n",
    "    \"St. Vincent & the Grenadines\": \"Saint Vincent and the Grenadines\",\n",
    "    \"Trinidad & Tobago\": \"Trinidad and Tobago\",\n",
    "    \"Turks & Caicos Islands\": \"Turks and Caicos Islands\",\n",
    "    \"US Virgin Islands\": \"Virgin Islands, U.S.\",\n",
    "}\n",
    "\n",
    "df = df.with_columns(\n",
    "    pl.col(\"Country\")\n",
    "    .str.split(\"; \")\n",
    "    .list.eval(\n",
    "        pl.when(pl.element().is_in(countries_fix.keys()))\n",
    "        .then(pl.element().map_dict(countries_fix))\n",
    "        .otherwise(pl.element())\n",
    "    ),\n",
    ")"
   ]
  },
  {
   "cell_type": "code",
   "execution_count": 54,
   "metadata": {
    "ExecuteTime": {
     "end_time": "2023-11-13T11:38:41.421676753Z",
     "start_time": "2023-11-13T11:38:41.377799816Z"
    },
    "collapsed": false
   },
   "outputs": [
    {
     "name": "stdout",
     "output_type": "stream",
     "text": [
      "shape: (0, 7)\n",
      "┌────────┬──────────────────┬───────────────────┬──────────────┬──────────────┬─────┬───────────┐\n",
      "│ Pillar ┆ Opportunity Name ┆ Project Highlight ┆ Account Name ┆ Total Amount ┆ SDG ┆ Country   │\n",
      "│ ---    ┆ ---              ┆ ---               ┆ ---          ┆ ---          ┆ --- ┆ ---       │\n",
      "│ str    ┆ str              ┆ str               ┆ str          ┆ f32          ┆ str ┆ list[str] │\n",
      "╞════════╪══════════════════╪═══════════════════╪══════════════╪══════════════╪═════╪═══════════╡\n",
      "└────────┴──────────────────┴───────────────────┴──────────────┴──────────────┴─────┴───────────┘\n"
     ]
    }
   ],
   "source": [
    "# count the nulls\n",
    "print(df.filter(pl.col(\"Country\").list.eval(pl.element().is_null()).list.any()))"
   ]
  },
  {
   "cell_type": "code",
   "execution_count": 55,
   "metadata": {
    "ExecuteTime": {
     "end_time": "2023-11-13T11:39:13.897725801Z",
     "start_time": "2023-11-13T11:39:13.853595484Z"
    },
    "collapsed": false
   },
   "outputs": [
    {
     "name": "stdout",
     "output_type": "stream",
     "text": [
      "shape: (3, 7)\n",
      "┌────────┬───────────────┬──────────────┬──────────────┬──────────────┬─────────────┬──────────────┐\n",
      "│ Pillar ┆ Opportunity   ┆ Project      ┆ Account Name ┆ Total Amount ┆ SDG         ┆ Country      │\n",
      "│ ---    ┆ Name          ┆ Highlight    ┆ ---          ┆ ---          ┆ ---         ┆ ---          │\n",
      "│ i64    ┆ ---           ┆ ---          ┆ str          ┆ f32          ┆ list[i64]   ┆ list[i64]    │\n",
      "│        ┆ str           ┆ str          ┆              ┆              ┆             ┆              │\n",
      "╞════════╪═══════════════╪══════════════╪══════════════╪══════════════╪═════════════╪══════════════╡\n",
      "│ 3      ┆ Phase 2:      ┆ A regional   ┆ Caribbean    ┆ 2.03e8       ┆ [1, 2, … 9] ┆ [919, 920, … │\n",
      "│        ┆ Build         ┆ blended      ┆ Development  ┆              ┆             ┆ 947]         │\n",
      "│        ┆ Caribbean     ┆ financial    ┆ Bank         ┆              ┆             ┆              │\n",
      "│        ┆ Blended…      ┆ fun…         ┆              ┆              ┆             ┆              │\n",
      "│ 2      ┆ Climate Smart ┆ The Climate- ┆ Caribbean    ┆ 234000.0     ┆ [6]         ┆ [919, 920, … │\n",
      "│        ┆ Map           ┆ Smart Map    ┆ Climate-Smar ┆              ┆             ┆ 947]         │\n",
      "│        ┆               ┆ outlines t…  ┆ t Accelera…  ┆              ┆             ┆              │\n",
      "│ 2      ┆ Building      ┆ To build ins ┆ Caribbean    ┆ 2.294e6      ┆ [6, 9]      ┆ [919, 920, … │\n",
      "│        ┆ Climate       ┆ titutional   ┆ Centre for   ┆              ┆             ┆ 947]         │\n",
      "│        ┆ Resilience    ┆ capacity …   ┆ Development… ┆              ┆             ┆              │\n",
      "│        ┆ Gove…         ┆              ┆              ┆              ┆             ┆              │\n",
      "└────────┴───────────────┴──────────────┴──────────────┴──────────────┴─────────────┴──────────────┘\n"
     ]
    }
   ],
   "source": [
    "# map pillar, SDG and countries to corresponding IDs\n",
    "df_with_ids = df.with_columns(\n",
    "    pl.col(\"SDG\").str.split(\"; \").list.eval(pl.element().map_dict(sdg_ids)),\n",
    "    pl.col(\"Pillar\").map_dict(pillar_ids),\n",
    "    pl.col(\"Country\").list.eval(pl.element().map_dict(country_ids)),\n",
    ")\n",
    "\n",
    "column_names = {\n",
    "    \"Pillar\": \"pillar\",\n",
    "    \"Opportunity Name\": \"name\",\n",
    "    \"Project Highlight\": \"highlight\",\n",
    "    \"Account Name\": \"account\",\n",
    "    \"Total Amount\": \"amount\",\n",
    "    \"SDG\": \"sdgs\",\n",
    "    \"Country\": \"countries\",\n",
    "}\n",
    "# count the nulls\n",
    "print(df_with_ids.filter(pl.col(\"Country\").list.eval(pl.element().is_null()).list.any()))"
   ]
  },
  {
   "cell_type": "code",
   "execution_count": 53,
   "metadata": {
    "ExecuteTime": {
     "end_time": "2023-11-13T11:34:34.417441049Z",
     "start_time": "2023-11-13T11:34:34.374664680Z"
    },
    "collapsed": false
   },
   "outputs": [],
   "source": [
    "df_with_ids.rename(column_names).write_json(\"projects.json\", pretty=True, row_oriented=True)"
   ]
  }
 ],
 "metadata": {
  "kernelspec": {
   "display_name": "Python 3",
   "language": "python",
   "name": "python3"
  },
  "language_info": {
   "codemirror_mode": {
    "name": "ipython",
    "version": 2
   },
   "file_extension": ".py",
   "mimetype": "text/x-python",
   "name": "python",
   "nbconvert_exporter": "python",
   "pygments_lexer": "ipython2",
   "version": "2.7.6"
  }
 },
 "nbformat": 4,
 "nbformat_minor": 0
}
