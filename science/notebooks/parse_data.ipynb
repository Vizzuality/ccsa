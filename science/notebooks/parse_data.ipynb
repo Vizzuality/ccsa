{
 "cells": [
  {
   "cell_type": "code",
   "execution_count": 4,
   "id": "initial_id",
   "metadata": {
    "ExecuteTime": {
     "end_time": "2023-11-24T12:02:02.070934777Z",
     "start_time": "2023-11-24T12:02:02.050112408Z"
    },
    "collapsed": true
   },
   "outputs": [],
   "source": [
    "import json\n",
    "\n",
    "import dotenv\n",
    "import polars as pl\n",
    "from utils import get_ids\n",
    "\n",
    "dotenv.load_dotenv(\"../../.env\")\n",
    "FILENAME = \"../data/PwC_CCSA Map - Datasets for Vizzuality map.xlsx\""
   ]
  },
  {
   "cell_type": "markdown",
   "id": "5d6787939322c575",
   "metadata": {
    "collapsed": false
   },
   "source": [
    "## Categories"
   ]
  },
  {
   "cell_type": "code",
   "execution_count": 5,
   "id": "d818527072dc8fa4",
   "metadata": {
    "ExecuteTime": {
     "end_time": "2023-11-24T12:02:02.180290616Z",
     "start_time": "2023-11-24T12:02:02.058542286Z"
    },
    "collapsed": false
   },
   "outputs": [],
   "source": [
    "categories = pl.read_excel(FILENAME, sheet_name=\"categories\")\n",
    "categories.select(pl.col(\"Categories\").alias(\"name\")).write_json(\n",
    "    \"categories.json\", row_oriented=True, pretty=True\n",
    ")"
   ]
  },
  {
   "cell_type": "markdown",
   "id": "e7d00ebabf543e1e",
   "metadata": {
    "collapsed": false
   },
   "source": [
    "## Datasets \n",
    "\n",
    "JSON must have\n",
    "\n",
    "```json\n",
    "{\n",
    "    \"name\": \"name\",\n",
    "    \"description\": \"description\",\n",
    "    \"category\": \"category_id\",\n",
    "    \"unit\": \"units\",\n",
    "    \"datum\": [\n",
    "        {\n",
    "          \"iso3\": \"AFG\",\n",
    "          \"value\": 0.1\n",
    "        },\n",
    "    ...\n",
    "  ]\n",
    "}\n",
    "``` "
   ]
  },
  {
   "cell_type": "code",
   "execution_count": 6,
   "id": "488a7571958f020e",
   "metadata": {
    "ExecuteTime": {
     "end_time": "2023-11-24T12:02:02.751974029Z",
     "start_time": "2023-11-24T12:02:02.121734274Z"
    },
    "collapsed": false
   },
   "outputs": [],
   "source": [
    "category_ids = get_ids(\"categories\")"
   ]
  },
  {
   "cell_type": "code",
   "execution_count": 7,
   "id": "5d8f9bcec39161ca",
   "metadata": {
    "ExecuteTime": {
     "end_time": "2023-11-24T12:02:02.786580914Z",
     "start_time": "2023-11-24T12:02:02.754063878Z"
    },
    "collapsed": false
   },
   "outputs": [],
   "source": [
    "datasets_info = pl.read_excel(FILENAME, sheet_name=\"datasets info\").filter(\n",
    "    ~pl.all_horizontal(pl.all().is_null())\n",
    ")\n",
    "data = pl.read_excel(FILENAME, sheet_name=\"data\").filter(~pl.all_horizontal(pl.all().is_null()))"
   ]
  },
  {
   "cell_type": "code",
   "execution_count": 8,
   "id": "9470191f5eae472d",
   "metadata": {
    "ExecuteTime": {
     "end_time": "2023-11-24T12:02:02.801618533Z",
     "start_time": "2023-11-24T12:02:02.789382852Z"
    },
    "collapsed": false
   },
   "outputs": [
    {
     "data": {
      "text/plain": "{'category': ['CARICOM',\n  'OECS',\n  'Overseas Territory',\n  'Climate Impact Risk ',\n  'CO2 emissions (Category)',\n  'Climate Policy (NDC)',\n  'Climate Policy (Adaptation Communication)'],\n 'continuous': ['CO2 emissions (tons per capita)',\n  'Climate Adaptation, Implementation Cost (estimated)',\n  'Climate Mitigation, Implementation Cost (estiamted)',\n  'Total Damage Caused by Disasters (2000-2021)',\n  'People Affected by Disasters (2000-2021)',\n  'Readiness- GAIN Index']}"
     },
     "execution_count": 8,
     "metadata": {},
     "output_type": "execute_result"
    }
   ],
   "source": [
    "types = datasets_info.group_by(\"Type\").agg(pl.col(\"ID\")).transpose().to_dict(as_series=False)\n",
    "types = {e[0][0]: e[1] for e in types.values()}"
   ]
  },
  {
   "cell_type": "code",
   "execution_count": 9,
   "id": "2ee669932a1cfa55",
   "metadata": {
    "ExecuteTime": {
     "end_time": "2023-11-24T12:02:02.801871856Z",
     "start_time": "2023-11-24T12:02:02.797922149Z"
    },
    "collapsed": false
   },
   "outputs": [],
   "source": [
    "# removes annoying \"-\"\n",
    "data = data.with_columns(\n",
    "    pl.when(pl.col(pl.Utf8) == \"-\").then(None).otherwise(pl.col(pl.Utf8)).name.keep()\n",
    ")"
   ]
  },
  {
   "cell_type": "code",
   "execution_count": 10,
   "id": "3e046dc68615da8",
   "metadata": {
    "ExecuteTime": {
     "end_time": "2023-11-24T12:02:02.809987424Z",
     "start_time": "2023-11-24T12:02:02.800331016Z"
    },
    "collapsed": false
   },
   "outputs": [],
   "source": [
    "data = data.with_columns(\n",
    "    pl.col(types[\"category\"]).cast(pl.Utf8), pl.col(types[\"continuous\"]).cast(pl.Float32)\n",
    ")"
   ]
  },
  {
   "cell_type": "code",
   "execution_count": 11,
   "id": "b6ef77466f39dc14",
   "metadata": {
    "ExecuteTime": {
     "end_time": "2023-11-24T12:02:02.908866268Z",
     "start_time": "2023-11-24T12:02:02.846089824Z"
    },
    "collapsed": false
   },
   "outputs": [],
   "source": [
    "def make_datum(dataset_id: str):\n",
    "    \"\"\"Extract datum dicts from data sheet\"\"\"\n",
    "    return (\n",
    "        data.select(pl.col(\"Abbreviation\").alias(\"iso3\"), pl.col(dataset_id).alias(\"value\"))\n",
    "        .to_struct(name=dataset_id)\n",
    "        .to_list()\n",
    "    )\n",
    "\n",
    "\n",
    "datasets = datasets_info.select(\n",
    "    pl.col(\"name\"),\n",
    "    pl.col(\"description\"),\n",
    "    pl.col(\"Category\").map_dict(category_ids).alias(\"category\"),\n",
    "    pl.col(\"Unit\").alias(\"unit\"),\n",
    "    datum=pl.col(\"ID\"),\n",
    ").to_dicts()"
   ]
  },
  {
   "cell_type": "code",
   "execution_count": 12,
   "id": "d7e9143419da120d",
   "metadata": {
    "ExecuteTime": {
     "end_time": "2023-11-24T12:02:02.916123559Z",
     "start_time": "2023-11-24T12:02:02.908717865Z"
    },
    "collapsed": false
   },
   "outputs": [],
   "source": [
    "for ds in datasets:\n",
    "    ds[\"datum\"] = make_datum(ds[\"datum\"])"
   ]
  },
  {
   "cell_type": "code",
   "execution_count": 13,
   "id": "433430f740954e8d",
   "metadata": {
    "ExecuteTime": {
     "end_time": "2023-11-24T12:02:02.925770670Z",
     "start_time": "2023-11-24T12:02:02.914650678Z"
    },
    "collapsed": false
   },
   "outputs": [
    {
     "data": {
      "text/plain": "[{'iso3': 'ABW', 'value': None},\n {'iso3': 'AIA', 'value': None},\n {'iso3': 'ATG', 'value': 1700000000.0},\n {'iso3': 'BES', 'value': None},\n {'iso3': 'BHS', 'value': 4000000000.0},\n {'iso3': 'BLZ', 'value': 318128096.0},\n {'iso3': 'BMU', 'value': None},\n {'iso3': 'BRB', 'value': 100000000.0},\n {'iso3': 'CRI', 'value': None},\n {'iso3': 'CUW', 'value': 151700000.0},\n {'iso3': 'CYM', 'value': None},\n {'iso3': 'DMA', 'value': None},\n {'iso3': 'DOM', 'value': 8732342272.0},\n {'iso3': 'GLP', 'value': None},\n {'iso3': 'GRD', 'value': 259400000.0},\n {'iso3': 'GUY', 'value': None},\n {'iso3': 'HND', 'value': None},\n {'iso3': 'HTI', 'value': 980000000.0},\n {'iso3': 'JAM', 'value': None},\n {'iso3': 'KNA', 'value': None},\n {'iso3': 'LCA', 'value': None},\n {'iso3': 'MEX', 'value': None},\n {'iso3': 'MSR', 'value': None},\n {'iso3': 'PAN', 'value': None},\n {'iso3': 'SUR', 'value': None},\n {'iso3': 'TCA', 'value': None},\n {'iso3': 'TTO', 'value': 19570004.0},\n {'iso3': 'VCT', 'value': None},\n {'iso3': 'VGB', 'value': None},\n {'iso3': 'VIR', 'value': None}]"
     },
     "execution_count": 13,
     "metadata": {},
     "output_type": "execute_result"
    }
   ],
   "source": [
    "make_datum(\"Climate Adaptation, Implementation Cost (estimated)\")"
   ]
  },
  {
   "cell_type": "code",
   "execution_count": 14,
   "id": "8a723924bc0d0659",
   "metadata": {
    "ExecuteTime": {
     "end_time": "2023-11-24T12:02:02.966032677Z",
     "start_time": "2023-11-24T12:02:02.921856900Z"
    },
    "collapsed": false
   },
   "outputs": [],
   "source": [
    "with open(\"datasets.json\", \"w\") as f:\n",
    "    json.dump(datasets, f)"
   ]
  },
  {
   "cell_type": "markdown",
   "id": "ed4d51a94d44e053",
   "metadata": {
    "collapsed": false
   },
   "source": [
    "## Layers\n"
   ]
  },
  {
   "cell_type": "code",
   "execution_count": 25,
   "id": "8650aab7d8d402bb",
   "metadata": {
    "ExecuteTime": {
     "end_time": "2023-11-24T12:12:39.309109007Z",
     "start_time": "2023-11-24T12:12:39.295781009Z"
    },
    "collapsed": false
   },
   "outputs": [],
   "source": [
    "NODATA_COLOR = \"#999999\"\n",
    "COLOR_STYLE_YES_NO = [\"match\", [\"get\", \"value\"], \"yes\", \"#43a2ca\", NODATA_COLOR]\n",
    "LEGEND_YES_NO = {\n",
    "    \"type\": \"basic\",\n",
    "    \"items\": [\n",
    "        {\"color\": \"#43a2ca\", \"label\": \"yes\", \"value\": \"yes\"},\n",
    "        {\"color\": NODATA_COLOR, \"label\": \"no\", \"value\": \"no\"},\n",
    "    ],\n",
    "}\n",
    "COLOR_STYLE_LOW_HIGH = [\n",
    "    \"match\",\n",
    "    [\"get\", \"value\"],\n",
    "    \"Low\",\n",
    "    \"#ffeda0\",\n",
    "    \"Medium\",\n",
    "    \"#feb24c\",\n",
    "    \"High\",\n",
    "    \"#f03b20\",\n",
    "    NODATA_COLOR,\n",
    "]\n",
    "LEGEND_LOW_HIGH = {\n",
    "    \"type\": \"basic\",\n",
    "    \"items\": [\n",
    "        {\"color\": \"#ffeda0\", \"label\": \"Low\", \"value\": \"Low\"},\n",
    "        {\"color\": \"#feb24c\", \"label\": \"Medium\", \"value\": \"Medium\"},\n",
    "        {\"color\": \"#f03b20\", \"label\": \"High\", \"value\": \"High\"},\n",
    "        {\"color\": NODATA_COLOR, \"label\": \"No Data\", \"value\": \"No Data\"},\n",
    "    ],\n",
    "}\n",
    "\n",
    "GRADIENT_MIN_COLOR, GRADIENT_MAX_COLOR = \"#deebf7\", \"#3182bd\"\n",
    "\n",
    "\n",
    "def continuous_style(min_val, max_val) -> list:\n",
    "    \"\"\"Mapbox style for continuous data\"\"\"\n",
    "    return [\n",
    "        \"case\",\n",
    "        [\"all\", [\"has\", \"value\"], [\"==\", [\"typeof\", [\"get\", \"value\"]], \"number\"]],\n",
    "        [\n",
    "            \"interpolate\",\n",
    "            [\"linear\"],\n",
    "            [\"get\", \"value\"],\n",
    "            min_val,\n",
    "            GRADIENT_MIN_COLOR,\n",
    "            max_val,\n",
    "            GRADIENT_MAX_COLOR,\n",
    "        ],\n",
    "        \"#999999\",\n",
    "    ]\n",
    "\n",
    "\n",
    "def continuous_legend(min_val, max_val) -> dict:\n",
    "    \"\"\"Legend style for continuous data\"\"\"\n",
    "    legend = {\n",
    "        \"type\": \"gradient\",\n",
    "        \"items\": [\n",
    "            {\"color\": GRADIENT_MIN_COLOR, \"label\": round(min_val, 2), \"value\": round(min_val, 2)},\n",
    "            {\"color\": GRADIENT_MAX_COLOR, \"label\": round(max_val, 2), \"value\": round(max_val, 2)},\n",
    "        ],\n",
    "    }\n",
    "    return legend\n",
    "\n",
    "\n",
    "def layer_entry_data(name: str, color_style, legend_config, dataset_id) -> dict:\n",
    "    \"\"\"build all the json for layer\"\"\"\n",
    "    data = {\n",
    "        \"name\": name,\n",
    "        \"type\": \"countries\",\n",
    "        \"config\": {\n",
    "            \"styles\": [\n",
    "                {\n",
    "                    \"id\": name.lower().replace(\" \", \"-\"),\n",
    "                    \"type\": \"fill\",\n",
    "                    \"paint\": {\"fill-color\": color_style, \"fill-opacity\": \"@@#params.opacity\"},\n",
    "                    \"layout\": {\n",
    "                        \"visibility\": {\"v\": \"@@#params.visibility\", \"@@function\": \"setVisibility\"}\n",
    "                    },\n",
    "                }\n",
    "            ]\n",
    "        },\n",
    "        \"params_config\": [{\"key\": \"opacity\", \"default\": 1}, {\"key\": \"visibility\", \"default\": True}],\n",
    "        \"legend_config\": legend_config,\n",
    "        \"interaction_config\": {},\n",
    "        \"dataset\": dataset_id,\n",
    "    }\n",
    "    return data"
   ]
  },
  {
   "cell_type": "code",
   "execution_count": 26,
   "id": "4c2081ae1aacae52",
   "metadata": {
    "ExecuteTime": {
     "end_time": "2023-11-24T12:12:40.835518807Z",
     "start_time": "2023-11-24T12:12:40.120667799Z"
    },
    "collapsed": false
   },
   "outputs": [
    {
     "name": "stdout",
     "output_type": "stream",
     "text": [
      "{'CARICOM Members': 35, 'Climate Readiness - Adapation estimated cost': 41, 'OECS Members': 36, 'Overseas Territory or Constituent Country': 37, 'Climate Policy': 46, 'Climate Impact Risk Level': 38, 'CO2 emissions (Tons per Capita)': 39, 'CO2 emissions level': 40, 'Climate Readiness - Mitigation estimated cost': 42, 'Loss and Damage': 43, 'Lives and Livelihoods': 44, 'Climate Readiness (ND-GAIN Score)': 45, 'Climate Adaptation Plan': 47}\n"
     ]
    }
   ],
   "source": [
    "dataset_ids = get_ids(\"datasets\")\n",
    "print(dataset_ids)"
   ]
  },
  {
   "cell_type": "code",
   "execution_count": 27,
   "id": "8681c1d95493974c",
   "metadata": {
    "ExecuteTime": {
     "end_time": "2023-11-24T12:12:40.895623718Z",
     "start_time": "2023-11-24T12:12:40.840057059Z"
    },
    "collapsed": false
   },
   "outputs": [],
   "source": [
    "entries = []\n",
    "for row in datasets_info.iter_rows(named=True):\n",
    "    if row[\"Type\"] == \"continuous\":\n",
    "        min_val = data.select(row[\"ID\"]).to_series().min()\n",
    "        max_val = data.select(row[\"ID\"]).to_series().max()\n",
    "        entries.append(\n",
    "            layer_entry_data(\n",
    "                row[\"name\"],\n",
    "                continuous_style(min_val, max_val),\n",
    "                continuous_legend(min_val, max_val),\n",
    "                dataset_ids[row[\"name\"]],\n",
    "            )\n",
    "        )\n",
    "    else:\n",
    "        # find out if yes no or low high\n",
    "        is_yes_no = \"yes\" in data.select(row[\"ID\"]).unique().to_series().to_list()\n",
    "        entries.append(\n",
    "            layer_entry_data(\n",
    "                row[\"name\"],\n",
    "                COLOR_STYLE_YES_NO if is_yes_no else COLOR_STYLE_LOW_HIGH,\n",
    "                LEGEND_YES_NO if is_yes_no else LEGEND_LOW_HIGH,\n",
    "                dataset_ids[row[\"name\"]],\n",
    "            )\n",
    "        )"
   ]
  },
  {
   "cell_type": "code",
   "execution_count": 28,
   "id": "d0a17b731fcdf6af",
   "metadata": {
    "ExecuteTime": {
     "end_time": "2023-11-24T12:12:41.486034418Z",
     "start_time": "2023-11-24T12:12:41.483018384Z"
    },
    "collapsed": false
   },
   "outputs": [],
   "source": [
    "with open(\"layers.json\", \"w\") as f:\n",
    "    json.dump(entries, f)"
   ]
  }
 ],
 "metadata": {
  "kernelspec": {
   "display_name": "Python 3",
   "language": "python",
   "name": "python3"
  },
  "language_info": {
   "codemirror_mode": {
    "name": "ipython",
    "version": 2
   },
   "file_extension": ".py",
   "mimetype": "text/x-python",
   "name": "python",
   "nbconvert_exporter": "python",
   "pygments_lexer": "ipython2",
   "version": "2.7.6"
  }
 },
 "nbformat": 4,
 "nbformat_minor": 5
}
