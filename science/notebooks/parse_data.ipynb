{
 "cells": [
  {
   "cell_type": "code",
   "execution_count": 1,
   "id": "initial_id",
   "metadata": {
    "ExecuteTime": {
     "end_time": "2023-11-23T18:19:49.377955874Z",
     "start_time": "2023-11-23T18:19:49.265488930Z"
    },
    "collapsed": true
   },
   "outputs": [],
   "source": [
    "import json\n",
    "\n",
    "import dotenv\n",
    "import polars as pl\n",
    "from utils import get_ids\n",
    "\n",
    "dotenv.load_dotenv(\"../../.env\")\n",
    "FILENAME = \"../data/PwC_CCSA Map - Datasets for Vizzuality map.xlsx\""
   ]
  },
  {
   "cell_type": "markdown",
   "id": "5d6787939322c575",
   "metadata": {
    "collapsed": false
   },
   "source": [
    "## Categories"
   ]
  },
  {
   "cell_type": "code",
   "execution_count": 2,
   "id": "d818527072dc8fa4",
   "metadata": {
    "ExecuteTime": {
     "end_time": "2023-11-23T18:19:50.150413017Z",
     "start_time": "2023-11-23T18:19:50.137985971Z"
    },
    "collapsed": false
   },
   "outputs": [],
   "source": [
    "categories = pl.read_excel(FILENAME, sheet_name=\"categories\")\n",
    "categories.select(pl.col(\"Categories\").alias(\"name\")).write_json(\n",
    "    \"categories.json\", row_oriented=True, pretty=True\n",
    ")"
   ]
  },
  {
   "cell_type": "markdown",
   "id": "e7d00ebabf543e1e",
   "metadata": {
    "collapsed": false
   },
   "source": [
    "## Datasets \n",
    "\n",
    "JSON must have\n",
    "\n",
    "```json\n",
    "{\n",
    "    \"name\": \"name\",\n",
    "    \"description\": \"description\",\n",
    "    \"category\": \"category_id\",\n",
    "    \"unit\": \"units\",\n",
    "    \"datum\": [\n",
    "        {\n",
    "          \"iso3\": \"AFG\",\n",
    "          \"value\": 0.1\n",
    "        },\n",
    "    ...\n",
    "  ]\n",
    "}\n",
    "``` "
   ]
  },
  {
   "cell_type": "code",
   "execution_count": 3,
   "id": "488a7571958f020e",
   "metadata": {
    "ExecuteTime": {
     "end_time": "2023-11-23T18:19:51.896221385Z",
     "start_time": "2023-11-23T18:19:51.134402184Z"
    },
    "collapsed": false
   },
   "outputs": [],
   "source": [
    "category_ids = get_ids(\"categories\")"
   ]
  },
  {
   "cell_type": "code",
   "execution_count": 4,
   "id": "5d8f9bcec39161ca",
   "metadata": {
    "ExecuteTime": {
     "end_time": "2023-11-23T18:19:51.931931928Z",
     "start_time": "2023-11-23T18:19:51.898401654Z"
    },
    "collapsed": false
   },
   "outputs": [
    {
     "data": {
      "text/html": "<div><style>\n.dataframe > thead > tr,\n.dataframe > tbody > tr {\n  text-align: right;\n  white-space: pre-wrap;\n}\n</style>\n<small>shape: (13, 6)</small><table border=\"1\" class=\"dataframe\"><thead><tr><th>name</th><th>ID</th><th>description</th><th>Type</th><th>Unit</th><th>Category</th></tr><tr><td>str</td><td>str</td><td>str</td><td>str</td><td>str</td><td>str</td></tr></thead><tbody><tr><td>&quot;CARICOM Member…</td><td>&quot;CARICOM&quot;</td><td>&quot;Country is a m…</td><td>&quot;category&quot;</td><td>null</td><td>&quot;Governance / A…</td></tr><tr><td>&quot;OECS Members&quot;</td><td>&quot;OECS&quot;</td><td>&quot;Country is a m…</td><td>&quot;category&quot;</td><td>null</td><td>&quot;Governance / A…</td></tr><tr><td>&quot;Overseas Terri…</td><td>&quot;Overseas Terri…</td><td>&quot;Country is an …</td><td>&quot;category&quot;</td><td>null</td><td>&quot;Governance / A…</td></tr><tr><td>&quot;Climate Impact…</td><td>&quot;Climate Impact…</td><td>&quot;Climate Impact…</td><td>&quot;category&quot;</td><td>null</td><td>&quot;Cliamte Risk /…</td></tr><tr><td>&quot;CO2 emissions …</td><td>&quot;CO2 emissions …</td><td>&quot;CO2 emissions …</td><td>&quot;continuous&quot;</td><td>&quot;t CO2 / capita…</td><td>&quot;Cliamte Risk /…</td></tr><tr><td>&quot;CO2 emissions …</td><td>&quot;CO2 emissions …</td><td>&quot;CO2 emissions …</td><td>&quot;category&quot;</td><td>null</td><td>&quot;Cliamte Risk /…</td></tr><tr><td>&quot;Climate Readin…</td><td>&quot;Climate Adapta…</td><td>&quot;Climate Adapta…</td><td>&quot;continuous&quot;</td><td>&quot;$&quot;</td><td>&quot;Climate Readin…</td></tr><tr><td>&quot;Climate Readin…</td><td>&quot;Climate Mitiga…</td><td>&quot;Climate Mitiga…</td><td>&quot;continuous&quot;</td><td>&quot;$&quot;</td><td>&quot;Climate Readin…</td></tr><tr><td>&quot;Loss and Damag…</td><td>&quot;Total Damage C…</td><td>&quot;Total Damage c…</td><td>&quot;continuous&quot;</td><td>&quot;$&quot;</td><td>&quot;Climate Impact…</td></tr><tr><td>&quot;Lives and Live…</td><td>&quot;People Affecte…</td><td>&quot;People Affecte…</td><td>&quot;continuous&quot;</td><td>&quot;$&quot;</td><td>&quot;Climate Impact…</td></tr><tr><td>&quot;Climate Readin…</td><td>&quot;Readiness- GAI…</td><td>&quot;ND-GAIN Countr…</td><td>&quot;continuous&quot;</td><td>null</td><td>&quot;Climate Readin…</td></tr><tr><td>&quot;Climate Policy…</td><td>&quot;Climate Policy…</td><td>&quot;Country NDC ex…</td><td>&quot;category&quot;</td><td>null</td><td>&quot;Climate Readin…</td></tr><tr><td>&quot;Climate Adapta…</td><td>&quot;Climate Policy…</td><td>&quot;Country Adapta…</td><td>&quot;category&quot;</td><td>null</td><td>&quot;Climate Readin…</td></tr></tbody></table></div>",
      "text/plain": "shape: (13, 6)\n┌───────────────────┬───────────────────┬───────────────────┬────────────┬──────┬──────────────────┐\n│ name              ┆ ID                ┆ description       ┆ Type       ┆ Unit ┆ Category         │\n│ ---               ┆ ---               ┆ ---               ┆ ---        ┆ ---  ┆ ---              │\n│ str               ┆ str               ┆ str               ┆ str        ┆ str  ┆ str              │\n╞═══════════════════╪═══════════════════╪═══════════════════╪════════════╪══════╪══════════════════╡\n│ CARICOM Members   ┆ CARICOM           ┆ Country is a      ┆ category   ┆ null ┆ Governance /     │\n│                   ┆                   ┆ member of CARICOM ┆            ┆      ┆ Affiliation      │\n│ OECS Members      ┆ OECS              ┆ Country is a      ┆ category   ┆ null ┆ Governance /     │\n│                   ┆                   ┆ member of the     ┆            ┆      ┆ Affiliation      │\n│                   ┆                   ┆ OECS              ┆            ┆      ┆                  │\n│ Overseas          ┆ Overseas          ┆ Country is an     ┆ category   ┆ null ┆ Governance /     │\n│ Territory or      ┆ Territory         ┆ overseas          ┆            ┆      ┆ Affiliation      │\n│ Constituen…       ┆                   ┆ territory…        ┆            ┆      ┆                  │\n│ Climate Impact    ┆ Climate Impact    ┆ Climate Impact    ┆ category   ┆ null ┆ Cliamte Risk /   │\n│ Risk Level        ┆ Risk              ┆ categorised by    ┆            ┆      ┆ Vulnerability    │\n│                   ┆                   ┆ ri…               ┆            ┆      ┆                  │\n│ …                 ┆ …                 ┆ …                 ┆ …          ┆ …    ┆ …                │\n│ Lives and         ┆ People Affected   ┆ People Affected   ┆ continuous ┆ $    ┆ Climate Impacts  │\n│ Livelihoods       ┆ by Disasters (20… ┆ by Disasters (Li… ┆            ┆      ┆                  │\n│ Climate Readiness ┆ Readiness- GAIN   ┆ ND-GAIN Country   ┆ continuous ┆ null ┆ Climate          │\n│ (ND-GAIN Score…   ┆ Index             ┆ Index summarizes… ┆            ┆      ┆ Readiness        │\n│ Climate Policy    ┆ Climate Policy    ┆ Country NDC       ┆ category   ┆ null ┆ Climate          │\n│                   ┆ (NDC)             ┆ existing and      ┆            ┆      ┆ Readiness        │\n│                   ┆                   ┆ submitt…          ┆            ┆      ┆                  │\n│ Climate           ┆ Climate Policy    ┆ Country           ┆ category   ┆ null ┆ Climate          │\n│ Adaptation Plan   ┆ (Adaptation       ┆ Adaptation plan / ┆            ┆      ┆ Readiness        │\n│                   ┆ Commu…            ┆ commun…           ┆            ┆      ┆                  │\n└───────────────────┴───────────────────┴───────────────────┴────────────┴──────┴──────────────────┘"
     },
     "execution_count": 4,
     "metadata": {},
     "output_type": "execute_result"
    }
   ],
   "source": [
    "datasets_info = pl.read_excel(FILENAME, sheet_name=\"datasets info\").filter(\n",
    "    ~pl.all_horizontal(pl.all().is_null())\n",
    ")\n",
    "data = pl.read_excel(FILENAME, sheet_name=\"data\").filter(~pl.all_horizontal(pl.all().is_null()))"
   ]
  },
  {
   "cell_type": "code",
   "execution_count": 38,
   "id": "b6ef77466f39dc14",
   "metadata": {
    "ExecuteTime": {
     "end_time": "2023-11-23T18:29:28.885652910Z",
     "start_time": "2023-11-23T18:29:28.844381936Z"
    },
    "collapsed": false
   },
   "outputs": [],
   "source": [
    "def make_datum(dataset_id: str):\n",
    "    \"\"\"Extract datum dicts from data sheet\"\"\"\n",
    "    return (\n",
    "        data.select(pl.col(\"Abbreviation\").alias(\"iso3\"), pl.col(dataset_id).alias(\"value\"))\n",
    "        .to_struct(name=dataset_id)\n",
    "        .to_list()\n",
    "    )\n",
    "\n",
    "\n",
    "datasets = datasets_info.select(\n",
    "    pl.col(\"name\"),\n",
    "    pl.col(\"description\"),\n",
    "    pl.col(\"Category\").map_dict(category_ids).alias(\"category\"),\n",
    "    pl.col(\"Unit\").alias(\"unit\"),\n",
    "    datum=pl.col(\"ID\"),\n",
    ").to_dicts()"
   ]
  },
  {
   "cell_type": "code",
   "execution_count": 39,
   "id": "d7e9143419da120d",
   "metadata": {
    "ExecuteTime": {
     "end_time": "2023-11-23T18:30:40.403348833Z",
     "start_time": "2023-11-23T18:30:40.357900106Z"
    },
    "collapsed": false
   },
   "outputs": [
    {
     "data": {
      "text/plain": "[{'name': 'CARICOM Members',\n  'description': 'Country is a member of CARICOM',\n  'category': 4,\n  'unit': None,\n  'datum': [{'iso3': 'ABW', 'value': None},\n   {'iso3': 'AIA', 'value': 'yes'},\n   {'iso3': 'ATG', 'value': 'yes'},\n   {'iso3': 'BES', 'value': None},\n   {'iso3': 'BHS', 'value': 'yes'},\n   {'iso3': 'BLZ', 'value': 'yes'},\n   {'iso3': 'BMU', 'value': 'yes'},\n   {'iso3': 'BRB', 'value': 'yes'},\n   {'iso3': 'CRI', 'value': None},\n   {'iso3': 'CUW', 'value': None},\n   {'iso3': 'CYM', 'value': None},\n   {'iso3': 'DMA', 'value': 'yes'},\n   {'iso3': 'DOM', 'value': None},\n   {'iso3': 'GLP', 'value': None},\n   {'iso3': 'GRD', 'value': 'yes'},\n   {'iso3': 'GUY', 'value': 'yes'},\n   {'iso3': 'HND', 'value': None},\n   {'iso3': 'HTI', 'value': 'yes'},\n   {'iso3': 'JAM', 'value': 'yes'},\n   {'iso3': 'KNA', 'value': 'yes'},\n   {'iso3': 'LCA', 'value': 'yes'},\n   {'iso3': 'MEX', 'value': None},\n   {'iso3': 'MSR', 'value': 'yes'},\n   {'iso3': 'PAN', 'value': None},\n   {'iso3': 'SUR', 'value': 'yes'},\n   {'iso3': 'TCA', 'value': 'yes'},\n   {'iso3': 'TTO', 'value': 'yes'},\n   {'iso3': 'VCT', 'value': 'yes'},\n   {'iso3': 'VGB', 'value': None},\n   {'iso3': 'VIR', 'value': None}]},\n {'name': 'OECS Members',\n  'description': 'Country is a member of the OECS',\n  'category': 4,\n  'unit': None,\n  'datum': [{'iso3': 'ABW', 'value': None},\n   {'iso3': 'AIA', 'value': 'yes'},\n   {'iso3': 'ATG', 'value': 'yes'},\n   {'iso3': 'BES', 'value': None},\n   {'iso3': 'BHS', 'value': None},\n   {'iso3': 'BLZ', 'value': None},\n   {'iso3': 'BMU', 'value': None},\n   {'iso3': 'BRB', 'value': None},\n   {'iso3': 'CRI', 'value': None},\n   {'iso3': 'CUW', 'value': None},\n   {'iso3': 'CYM', 'value': None},\n   {'iso3': 'DMA', 'value': 'yes'},\n   {'iso3': 'DOM', 'value': None},\n   {'iso3': 'GLP', 'value': None},\n   {'iso3': 'GRD', 'value': None},\n   {'iso3': 'GUY', 'value': None},\n   {'iso3': 'HND', 'value': None},\n   {'iso3': 'HTI', 'value': None},\n   {'iso3': 'JAM', 'value': None},\n   {'iso3': 'KNA', 'value': 'yes'},\n   {'iso3': 'LCA', 'value': 'yes'},\n   {'iso3': 'MEX', 'value': None},\n   {'iso3': 'MSR', 'value': 'yes'},\n   {'iso3': 'PAN', 'value': None},\n   {'iso3': 'SUR', 'value': None},\n   {'iso3': 'TCA', 'value': None},\n   {'iso3': 'TTO', 'value': None},\n   {'iso3': 'VCT', 'value': 'yes'},\n   {'iso3': 'VGB', 'value': 'yes'},\n   {'iso3': 'VIR', 'value': None}]},\n {'name': 'Overseas Territory or Constituent Country',\n  'description': 'Country is an overseas territory or consituent country',\n  'category': 4,\n  'unit': None,\n  'datum': [{'iso3': 'ABW', 'value': 'yes'},\n   {'iso3': 'AIA', 'value': None},\n   {'iso3': 'ATG', 'value': None},\n   {'iso3': 'BES', 'value': 'yes'},\n   {'iso3': 'BHS', 'value': None},\n   {'iso3': 'BLZ', 'value': None},\n   {'iso3': 'BMU', 'value': None},\n   {'iso3': 'BRB', 'value': None},\n   {'iso3': 'CRI', 'value': None},\n   {'iso3': 'CUW', 'value': 'yes'},\n   {'iso3': 'CYM', 'value': 'yes'},\n   {'iso3': 'DMA', 'value': None},\n   {'iso3': 'DOM', 'value': None},\n   {'iso3': 'GLP', 'value': None},\n   {'iso3': 'GRD', 'value': None},\n   {'iso3': 'GUY', 'value': None},\n   {'iso3': 'HND', 'value': None},\n   {'iso3': 'HTI', 'value': None},\n   {'iso3': 'JAM', 'value': None},\n   {'iso3': 'KNA', 'value': None},\n   {'iso3': 'LCA', 'value': None},\n   {'iso3': 'MEX', 'value': None},\n   {'iso3': 'MSR', 'value': None},\n   {'iso3': 'PAN', 'value': None},\n   {'iso3': 'SUR', 'value': None},\n   {'iso3': 'TCA', 'value': None},\n   {'iso3': 'TTO', 'value': None},\n   {'iso3': 'VCT', 'value': None},\n   {'iso3': 'VGB', 'value': 'yes'},\n   {'iso3': 'VIR', 'value': 'yes'}]},\n {'name': 'Climate Impact Risk Level',\n  'description': 'Climate Impact categorised by risk level ',\n  'category': 6,\n  'unit': None,\n  'datum': [{'iso3': 'ABW', 'value': 'Medium'},\n   {'iso3': 'AIA', 'value': 'Low'},\n   {'iso3': 'ATG', 'value': 'Medium'},\n   {'iso3': 'BES', 'value': 'Low'},\n   {'iso3': 'BHS', 'value': 'Medium'},\n   {'iso3': 'BLZ', 'value': 'High'},\n   {'iso3': 'BMU', 'value': 'Medium'},\n   {'iso3': 'BRB', 'value': 'High'},\n   {'iso3': 'CRI', 'value': 'Medium'},\n   {'iso3': 'CUW', 'value': 'Medium'},\n   {'iso3': 'CYM', 'value': 'Medium'},\n   {'iso3': 'DMA', 'value': 'Medium'},\n   {'iso3': 'DOM', 'value': 'High'},\n   {'iso3': 'GLP', 'value': 'Medium'},\n   {'iso3': 'GRD', 'value': 'High'},\n   {'iso3': 'GUY', 'value': 'High'},\n   {'iso3': 'HND', 'value': 'Medium'},\n   {'iso3': 'HTI', 'value': 'High'},\n   {'iso3': 'JAM', 'value': 'High'},\n   {'iso3': 'KNA', 'value': 'Medium'},\n   {'iso3': 'LCA', 'value': 'High'},\n   {'iso3': 'MEX', 'value': 'Medium'},\n   {'iso3': 'MSR', 'value': 'Medium'},\n   {'iso3': 'PAN', 'value': 'Medium'},\n   {'iso3': 'SUR', 'value': 'Medium'},\n   {'iso3': 'TCA', 'value': 'Low'},\n   {'iso3': 'TTO', 'value': 'High'},\n   {'iso3': 'VCT', 'value': 'Medium'},\n   {'iso3': 'VGB', 'value': 'Medium'},\n   {'iso3': 'VIR', 'value': 'High'}]},\n {'name': 'CO2 emissions (Tons per Capita)',\n  'description': 'CO2 emissions (Tons per Capita)',\n  'category': 6,\n  'unit': 't CO2 / capita',\n  'datum': [{'iso3': 'ABW', 'value': 8.07},\n   {'iso3': 'AIA', 'value': 9.59},\n   {'iso3': 'ATG', 'value': 4.83},\n   {'iso3': 'BES', 'value': 5.14},\n   {'iso3': 'BHS', 'value': 6.13},\n   {'iso3': 'BLZ', 'value': 1.77},\n   {'iso3': 'BMU', 'value': 8.57},\n   {'iso3': 'BRB', 'value': 3.92},\n   {'iso3': 'CRI', 'value': 1.55},\n   {'iso3': 'CUW', 'value': 11.9},\n   {'iso3': 'CYM', 'value': 7.02},\n   {'iso3': 'DMA', 'value': 2.21},\n   {'iso3': 'DOM', 'value': 2.69},\n   {'iso3': 'GLP', 'value': 5.65},\n   {'iso3': 'GRD', 'value': 2.85},\n   {'iso3': 'GUY', 'value': 3.94},\n   {'iso3': 'HND', 'value': 1.12},\n   {'iso3': 'HTI', 'value': 0.26},\n   {'iso3': 'JAM', 'value': 2.61},\n   {'iso3': 'KNA', 'value': 4.5},\n   {'iso3': 'LCA', 'value': 2.66},\n   {'iso3': 'MEX', 'value': 3.23},\n   {'iso3': 'MSR', 'value': 3.5},\n   {'iso3': 'PAN', 'value': 3.07},\n   {'iso3': 'SUR', 'value': 4.8},\n   {'iso3': 'TCA', 'value': 7.66},\n   {'iso3': 'TTO', 'value': 25.9},\n   {'iso3': 'VCT', 'value': 2.13},\n   {'iso3': 'VGB', 'value': 5.28},\n   {'iso3': 'VIR', 'value': 21.05}]},\n {'name': 'CO2 emissions level',\n  'description': 'CO2 emissions categorised by level',\n  'category': 6,\n  'unit': None,\n  'datum': [{'iso3': 'ABW', 'value': 'High'},\n   {'iso3': 'AIA', 'value': 'High'},\n   {'iso3': 'ATG', 'value': 'Medium'},\n   {'iso3': 'BES', 'value': 'Medium'},\n   {'iso3': 'BHS', 'value': 'Medium'},\n   {'iso3': 'BLZ', 'value': 'Low'},\n   {'iso3': 'BMU', 'value': 'High'},\n   {'iso3': 'BRB', 'value': 'Medium'},\n   {'iso3': 'CRI', 'value': 'Low'},\n   {'iso3': 'CUW', 'value': 'High'},\n   {'iso3': 'CYM', 'value': 'High'},\n   {'iso3': 'DMA', 'value': 'Low'},\n   {'iso3': 'DOM', 'value': 'Low'},\n   {'iso3': 'GLP', 'value': 'Medium'},\n   {'iso3': 'GRD', 'value': 'Low'},\n   {'iso3': 'GUY', 'value': 'Medium'},\n   {'iso3': 'HND', 'value': 'Low'},\n   {'iso3': 'HTI', 'value': 'Low'},\n   {'iso3': 'JAM', 'value': 'Low'},\n   {'iso3': 'KNA', 'value': 'Medium'},\n   {'iso3': 'LCA', 'value': 'Low'},\n   {'iso3': 'MEX', 'value': 'Medium'},\n   {'iso3': 'MSR', 'value': 'Medium'},\n   {'iso3': 'PAN', 'value': 'Medium'},\n   {'iso3': 'SUR', 'value': 'Medium'},\n   {'iso3': 'TCA', 'value': 'High'},\n   {'iso3': 'TTO', 'value': 'High'},\n   {'iso3': 'VCT', 'value': 'Low'},\n   {'iso3': 'VGB', 'value': 'Medium'},\n   {'iso3': 'VIR', 'value': 'High'}]},\n {'name': 'Climate Readiness - Adapation estimated cost',\n  'description': 'Climate Adaptation, estimated cost',\n  'category': 5,\n  'unit': '$',\n  'datum': [{'iso3': 'ABW', 'value': '-'},\n   {'iso3': 'AIA', 'value': '-'},\n   {'iso3': 'ATG', 'value': '1700000000'},\n   {'iso3': 'BES', 'value': '-'},\n   {'iso3': 'BHS', 'value': '4000000000'},\n   {'iso3': 'BLZ', 'value': '318128111'},\n   {'iso3': 'BMU', 'value': '-'},\n   {'iso3': 'BRB', 'value': '100000000'},\n   {'iso3': 'CRI', 'value': '-'},\n   {'iso3': 'CUW', 'value': '151700000'},\n   {'iso3': 'CYM', 'value': '-'},\n   {'iso3': 'DMA', 'value': '-'},\n   {'iso3': 'DOM', 'value': '8732342650'},\n   {'iso3': 'GLP', 'value': '-'},\n   {'iso3': 'GRD', 'value': '259400000'},\n   {'iso3': 'GUY', 'value': '-'},\n   {'iso3': 'HND', 'value': '-'},\n   {'iso3': 'HTI', 'value': '980000000'},\n   {'iso3': 'JAM', 'value': '-'},\n   {'iso3': 'KNA', 'value': '-'},\n   {'iso3': 'LCA', 'value': '-'},\n   {'iso3': 'MEX', 'value': '-'},\n   {'iso3': 'MSR', 'value': '-'},\n   {'iso3': 'PAN', 'value': '-'},\n   {'iso3': 'SUR', 'value': '-'},\n   {'iso3': 'TCA', 'value': '-'},\n   {'iso3': 'TTO', 'value': '19570005'},\n   {'iso3': 'VCT', 'value': '-'},\n   {'iso3': 'VGB', 'value': '-'},\n   {'iso3': 'VIR', 'value': '-'}]},\n {'name': 'Climate Readiness - Mitigation estimated cost',\n  'description': 'Climate Mitigation, estimated cost',\n  'category': 5,\n  'unit': '$',\n  'datum': [{'iso3': 'ABW', 'value': '-'},\n   {'iso3': 'AIA', 'value': '-'},\n   {'iso3': 'ATG', 'value': '-'},\n   {'iso3': 'BES', 'value': '-'},\n   {'iso3': 'BHS', 'value': '-'},\n   {'iso3': 'BLZ', 'value': '1396851842'},\n   {'iso3': 'BMU', 'value': '273000000'},\n   {'iso3': 'BRB', 'value': '-'},\n   {'iso3': 'CRI', 'value': '400000000'},\n   {'iso3': 'CUW', 'value': '-'},\n   {'iso3': 'CYM', 'value': '-'},\n   {'iso3': 'DMA', 'value': '95700000'},\n   {'iso3': 'DOM', 'value': '6416950000'},\n   {'iso3': 'GLP', 'value': '-'},\n   {'iso3': 'GRD', 'value': '-'},\n   {'iso3': 'GUY', 'value': '-'},\n   {'iso3': 'HND', 'value': '-'},\n   {'iso3': 'HTI', 'value': '-'},\n   {'iso3': 'JAM', 'value': '-'},\n   {'iso3': 'KNA', 'value': '-'},\n   {'iso3': 'LCA', 'value': '-'},\n   {'iso3': 'MEX', 'value': '-'},\n   {'iso3': 'MSR', 'value': '-'},\n   {'iso3': 'PAN', 'value': '-'},\n   {'iso3': 'SUR', 'value': '557800000'},\n   {'iso3': 'TCA', 'value': '-'},\n   {'iso3': 'TTO', 'value': '2557800000'},\n   {'iso3': 'VCT', 'value': '-'},\n   {'iso3': 'VGB', 'value': '-'},\n   {'iso3': 'VIR', 'value': '-'}]},\n {'name': 'Loss and Damage',\n  'description': 'Total Damage caused by Disaster ($)',\n  'category': 3,\n  'unit': '$',\n  'datum': [{'iso3': 'ABW', 'value': '-'},\n   {'iso3': 'AIA', 'value': '200000000'},\n   {'iso3': 'ATG', 'value': '292000000'},\n   {'iso3': 'BES', 'value': '-'},\n   {'iso3': 'BHS', 'value': '716000000'},\n   {'iso3': 'BLZ', 'value': '552000000'},\n   {'iso3': 'BMU', 'value': '300000000'},\n   {'iso3': 'BRB', 'value': '5200000000'},\n   {'iso3': 'CRI', 'value': '-'},\n   {'iso3': 'CUW', 'value': '-'},\n   {'iso3': 'CYM', 'value': '3500000000'},\n   {'iso3': 'DMA', 'value': '1950000000'},\n   {'iso3': 'DOM', 'value': '680000000'},\n   {'iso3': 'GLP', 'value': '-'},\n   {'iso3': 'GRD', 'value': '889000000'},\n   {'iso3': 'GUY', 'value': '677800000'},\n   {'iso3': 'HND', 'value': '-'},\n   {'iso3': 'HTI', 'value': '-'},\n   {'iso3': 'JAM', 'value': '1500000000'},\n   {'iso3': 'KNA', 'value': '20000000'},\n   {'iso3': 'LCA', 'value': '75000000'},\n   {'iso3': 'MEX', 'value': '-'},\n   {'iso3': 'MSR', 'value': '-'},\n   {'iso3': 'PAN', 'value': '-'},\n   {'iso3': 'SUR', 'value': '-'},\n   {'iso3': 'TCA', 'value': '1000000'},\n   {'iso3': 'TTO', 'value': '-'},\n   {'iso3': 'VCT', 'value': '496200000'},\n   {'iso3': 'VGB', 'value': '3300000'},\n   {'iso3': 'VIR', 'value': '-'}]},\n {'name': 'Lives and Livelihoods',\n  'description': 'People Affected by Disasters (Lives and Livelihoods)',\n  'category': 3,\n  'unit': '$',\n  'datum': [{'iso3': 'ABW', 'value': '-'},\n   {'iso3': 'AIA', 'value': '15000'},\n   {'iso3': 'ATG', 'value': '32500'},\n   {'iso3': 'BES', 'value': '-'},\n   {'iso3': 'BHS', 'value': '53000'},\n   {'iso3': 'BLZ', 'value': '240900'},\n   {'iso3': 'BMU', 'value': '-'},\n   {'iso3': 'BRB', 'value': '8600'},\n   {'iso3': 'CRI', 'value': '-'},\n   {'iso3': 'CUW', 'value': '-'},\n   {'iso3': 'CYM', 'value': '300'},\n   {'iso3': 'DMA', 'value': '107700'},\n   {'iso3': 'DOM', 'value': '3400000'},\n   {'iso3': 'GLP', 'value': '-'},\n   {'iso3': 'GRD', 'value': '60000'},\n   {'iso3': 'GUY', 'value': '762000'},\n   {'iso3': 'HND', 'value': '-'},\n   {'iso3': 'HTI', 'value': '-'},\n   {'iso3': 'JAM', 'value': '869500'},\n   {'iso3': 'KNA', 'value': '500'},\n   {'iso3': 'LCA', 'value': '206000'},\n   {'iso3': 'MEX', 'value': '-'},\n   {'iso3': 'MSR', 'value': '200'},\n   {'iso3': 'PAN', 'value': '-'},\n   {'iso3': 'SUR', 'value': '3150'},\n   {'iso3': 'TCA', 'value': '1700'},\n   {'iso3': 'TTO', 'value': '-'},\n   {'iso3': 'VCT', 'value': '65000'},\n   {'iso3': 'VGB', 'value': '18000'},\n   {'iso3': 'VIR', 'value': '-'}]},\n {'name': 'Climate Readiness (ND-GAIN Score)',\n  'description': \"ND-GAIN Country Index summarizes a country's vulnerability to climate change and other global challenges in combination with its readiness to improve resilience.\",\n  'category': 5,\n  'unit': None,\n  'datum': [{'iso3': 'ABW', 'value': '-'},\n   {'iso3': 'AIA', 'value': '-'},\n   {'iso3': 'ATG', 'value': '0.44926'},\n   {'iso3': 'BES', 'value': '-'},\n   {'iso3': 'BHS', 'value': '0.427831'},\n   {'iso3': 'BLZ', 'value': '0.333388'},\n   {'iso3': 'BMU', 'value': '-'},\n   {'iso3': 'BRB', 'value': '0.536127'},\n   {'iso3': 'CRI', 'value': '0.452252'},\n   {'iso3': 'CUW', 'value': '-'},\n   {'iso3': 'CYM', 'value': '-'},\n   {'iso3': 'DMA', 'value': '0.52067'},\n   {'iso3': 'DOM', 'value': '0.363155'},\n   {'iso3': 'GLP', 'value': '-'},\n   {'iso3': 'GRD', 'value': '0.478677'},\n   {'iso3': 'GUY', 'value': '0.321525'},\n   {'iso3': 'HND', 'value': '0.259882'},\n   {'iso3': 'HTI', 'value': '0.224117'},\n   {'iso3': 'JAM', 'value': '0.407936'},\n   {'iso3': 'KNA', 'value': '0.556189'},\n   {'iso3': 'LCA', 'value': '0.454341'},\n   {'iso3': 'MEX', 'value': '0.360405'},\n   {'iso3': 'MSR', 'value': '-'},\n   {'iso3': 'PAN', 'value': '0.375581'},\n   {'iso3': 'SUR', 'value': '0.333243'},\n   {'iso3': 'TCA', 'value': '-'},\n   {'iso3': 'TTO', 'value': '0.337774'},\n   {'iso3': 'VCT', 'value': '0.473975'},\n   {'iso3': 'VGB', 'value': '-'},\n   {'iso3': 'VIR', 'value': '-'}]},\n {'name': 'Climate Policy',\n  'description': 'Country NDC existing and submitted to UNFCCC',\n  'category': 5,\n  'unit': None,\n  'datum': [{'iso3': 'ABW', 'value': '-'},\n   {'iso3': 'AIA', 'value': '-'},\n   {'iso3': 'ATG', 'value': 'yes'},\n   {'iso3': 'BES', 'value': '-'},\n   {'iso3': 'BHS', 'value': 'yes'},\n   {'iso3': 'BLZ', 'value': 'yes'},\n   {'iso3': 'BMU', 'value': '-'},\n   {'iso3': 'BRB', 'value': 'yes'},\n   {'iso3': 'CRI', 'value': 'yes'},\n   {'iso3': 'CUW', 'value': '-'},\n   {'iso3': 'CYM', 'value': '-'},\n   {'iso3': 'DMA', 'value': 'yes'},\n   {'iso3': 'DOM', 'value': 'yes'},\n   {'iso3': 'GLP', 'value': '-'},\n   {'iso3': 'GRD', 'value': 'yes'},\n   {'iso3': 'GUY', 'value': 'yes'},\n   {'iso3': 'HND', 'value': 'yes'},\n   {'iso3': 'HTI', 'value': 'yes'},\n   {'iso3': 'JAM', 'value': 'yes'},\n   {'iso3': 'KNA', 'value': 'yes'},\n   {'iso3': 'LCA', 'value': 'yes'},\n   {'iso3': 'MEX', 'value': 'yes'},\n   {'iso3': 'MSR', 'value': 'yes'},\n   {'iso3': 'PAN', 'value': 'yes'},\n   {'iso3': 'SUR', 'value': 'yes'},\n   {'iso3': 'TCA', 'value': '-'},\n   {'iso3': 'TTO', 'value': 'yes'},\n   {'iso3': 'VCT', 'value': 'yes'},\n   {'iso3': 'VGB', 'value': '-'},\n   {'iso3': 'VIR', 'value': '-'}]},\n {'name': 'Climate Adaptation Plan',\n  'description': 'Country Adaptation plan / communications existing?',\n  'category': 5,\n  'unit': None,\n  'datum': [{'iso3': 'ABW', 'value': '-'},\n   {'iso3': 'AIA', 'value': '-'},\n   {'iso3': 'ATG', 'value': 'yes'},\n   {'iso3': 'BES', 'value': '-'},\n   {'iso3': 'BHS', 'value': 'yes'},\n   {'iso3': 'BLZ', 'value': 'yes'},\n   {'iso3': 'BMU', 'value': '-'},\n   {'iso3': 'BRB', 'value': 'yes'},\n   {'iso3': 'CRI', 'value': 'yes'},\n   {'iso3': 'CUW', 'value': '-'},\n   {'iso3': 'CYM', 'value': '-'},\n   {'iso3': 'DMA', 'value': 'yes'},\n   {'iso3': 'DOM', 'value': 'yes'},\n   {'iso3': 'GLP', 'value': '-'},\n   {'iso3': 'GRD', 'value': 'yes'},\n   {'iso3': 'GUY', 'value': '-'},\n   {'iso3': 'HND', 'value': 'yes'},\n   {'iso3': 'HTI', 'value': 'yes'},\n   {'iso3': 'JAM', 'value': 'yes'},\n   {'iso3': 'KNA', 'value': 'yes'},\n   {'iso3': 'LCA', 'value': 'yes'},\n   {'iso3': 'MEX', 'value': 'yes'},\n   {'iso3': 'MSR', 'value': '-'},\n   {'iso3': 'PAN', 'value': 'yes'},\n   {'iso3': 'SUR', 'value': 'yes'},\n   {'iso3': 'TCA', 'value': 'yes'},\n   {'iso3': 'TTO', 'value': 'yes'},\n   {'iso3': 'VCT', 'value': 'yes'},\n   {'iso3': 'VGB', 'value': '-'},\n   {'iso3': 'VIR', 'value': '-'}]}]"
     },
     "execution_count": 39,
     "metadata": {},
     "output_type": "execute_result"
    }
   ],
   "source": [
    "for ds in datasets:\n",
    "    ds[\"datum\"] = make_datum(ds[\"datum\"])"
   ]
  },
  {
   "cell_type": "code",
   "execution_count": 40,
   "id": "8a723924bc0d0659",
   "metadata": {
    "ExecuteTime": {
     "end_time": "2023-11-23T18:31:19.917690314Z",
     "start_time": "2023-11-23T18:31:19.874254046Z"
    },
    "collapsed": false
   },
   "outputs": [],
   "source": [
    "with open(\"datasets.json\", \"w\") as f:\n",
    "    json.dump(datasets, f)"
   ]
  }
 ],
 "metadata": {
  "kernelspec": {
   "display_name": "Python 3",
   "language": "python",
   "name": "python3"
  },
  "language_info": {
   "codemirror_mode": {
    "name": "ipython",
    "version": 2
   },
   "file_extension": ".py",
   "mimetype": "text/x-python",
   "name": "python",
   "nbconvert_exporter": "python",
   "pygments_lexer": "ipython2",
   "version": "2.7.6"
  }
 },
 "nbformat": 4,
 "nbformat_minor": 5
}
