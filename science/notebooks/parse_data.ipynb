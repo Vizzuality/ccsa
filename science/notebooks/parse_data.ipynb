{
 "cells": [
  {
   "cell_type": "code",
   "execution_count": null,
   "id": "initial_id",
   "metadata": {
    "collapsed": true
   },
   "outputs": [],
   "source": [
    "import json\n",
    "\n",
    "import dotenv\n",
    "import polars as pl\n",
    "from utils import get_ids\n",
    "\n",
    "dotenv.load_dotenv(\"../../.env\")\n",
    "FILENAME = \"../data/PwC_CCSA Map - Datasets for Vizzuality map.xlsx\""
   ]
  },
  {
   "cell_type": "markdown",
   "id": "5d6787939322c575",
   "metadata": {
    "collapsed": false
   },
   "source": [
    "## Categories"
   ]
  },
  {
   "cell_type": "code",
   "execution_count": null,
   "id": "d818527072dc8fa4",
   "metadata": {
    "collapsed": false
   },
   "outputs": [],
   "source": [
    "categories = pl.read_excel(FILENAME, sheet_name=\"categories\")\n",
    "categories.select(pl.col(\"Categories\").alias(\"name\")).write_json(\n",
    "    \"categories.json\", row_oriented=True, pretty=True\n",
    ")"
   ]
  },
  {
   "cell_type": "markdown",
   "id": "e7d00ebabf543e1e",
   "metadata": {
    "collapsed": false
   },
   "source": [
    "## Datasets \n",
    "\n",
    "JSON must have\n",
    "\n",
    "```json\n",
    "{\n",
    "    \"name\": \"name\",\n",
    "    \"description\": \"description\",\n",
    "    \"category\": \"category_id\",\n",
    "    \"unit\": \"units\",\n",
    "    \"datum\": [\n",
    "        {\n",
    "          \"iso3\": \"AFG\",\n",
    "          \"value\": 0.1\n",
    "        },\n",
    "    ...\n",
    "  ]\n",
    "}\n",
    "``` "
   ]
  },
  {
   "cell_type": "code",
   "execution_count": null,
   "id": "488a7571958f020e",
   "metadata": {
    "collapsed": false
   },
   "outputs": [],
   "source": [
    "category_ids = get_ids(\"categories\")"
   ]
  },
  {
   "cell_type": "code",
   "execution_count": null,
   "id": "5d8f9bcec39161ca",
   "metadata": {
    "collapsed": false
   },
   "outputs": [],
   "source": [
    "datasets_info = pl.read_excel(FILENAME, sheet_name=\"datasets info\").filter(\n",
    "    ~pl.all_horizontal(pl.all().is_null())\n",
    ")\n",
    "data = pl.read_excel(FILENAME, sheet_name=\"data\").filter(~pl.all_horizontal(pl.all().is_null()))"
   ]
  },
  {
   "cell_type": "code",
   "execution_count": null,
   "id": "9470191f5eae472d",
   "metadata": {
    "collapsed": false
   },
   "outputs": [],
   "source": [
    "types = datasets_info.group_by(\"Type\").agg(pl.col(\"ID\")).transpose().to_dict(as_series=False)\n",
    "types = {e[0][0]: e[1] for e in types.values()}"
   ]
  },
  {
   "cell_type": "code",
   "execution_count": null,
   "id": "2ee669932a1cfa55",
   "metadata": {
    "collapsed": false
   },
   "outputs": [],
   "source": [
    "# removes annoying \"-\"\n",
    "data = data.with_columns(\n",
    "    pl.when(pl.col(pl.Utf8) == \"-\").then(None).otherwise(pl.col(pl.Utf8)).name.keep()\n",
    ")"
   ]
  },
  {
   "cell_type": "code",
   "execution_count": null,
   "id": "3e046dc68615da8",
   "metadata": {
    "collapsed": false
   },
   "outputs": [],
   "source": [
    "data = data.with_columns(\n",
    "    pl.col(types[\"category\"]).cast(pl.Utf8), pl.col(types[\"continuous\"]).cast(pl.Float32)\n",
    ")"
   ]
  },
  {
   "cell_type": "code",
   "execution_count": null,
   "id": "b6ef77466f39dc14",
   "metadata": {
    "collapsed": false
   },
   "outputs": [],
   "source": [
    "def make_datum(dataset_id: str):\n",
    "    \"\"\"Extract datum dicts from data sheet\"\"\"\n",
    "    return (\n",
    "        data.select(pl.col(\"Abbreviation\").alias(\"iso3\"), pl.col(dataset_id).alias(\"value\"))\n",
    "        .to_struct(name=dataset_id)\n",
    "        .to_list()\n",
    "    )\n",
    "\n",
    "\n",
    "datasets = datasets_info.select(\n",
    "    pl.col(\"name\"),\n",
    "    pl.col(\"description\"),\n",
    "    pl.col(\"Category\").map_dict(category_ids).alias(\"category\"),\n",
    "    pl.col(\"Unit\").alias(\"unit\"),\n",
    "    datum=pl.col(\"ID\"),\n",
    ").to_dicts()"
   ]
  },
  {
   "cell_type": "code",
   "execution_count": null,
   "id": "d7e9143419da120d",
   "metadata": {
    "collapsed": false
   },
   "outputs": [],
   "source": [
    "for ds in datasets:\n",
    "    ds[\"datum\"] = make_datum(ds[\"datum\"])"
   ]
  },
  {
   "cell_type": "code",
   "execution_count": null,
   "id": "433430f740954e8d",
   "metadata": {
    "collapsed": false
   },
   "outputs": [],
   "source": [
    "make_datum(\"Climate Adaptation, Implementation Cost (estimated)\")"
   ]
  },
  {
   "cell_type": "code",
   "execution_count": null,
   "id": "8a723924bc0d0659",
   "metadata": {
    "collapsed": false
   },
   "outputs": [],
   "source": [
    "with open(\"datasets.json\", \"w\") as f:\n",
    "    json.dump(datasets, f)"
   ]
  },
  {
   "cell_type": "markdown",
   "id": "ed4d51a94d44e053",
   "metadata": {
    "collapsed": false
   },
   "source": [
    "## Layers\n"
   ]
  },
  {
   "cell_type": "code",
   "execution_count": null,
   "id": "8650aab7d8d402bb",
   "metadata": {
    "collapsed": false
   },
   "outputs": [],
   "source": [
    "NODATA_COLOR = \"#999999\"\n",
    "COLOR_STYLE_YES_NO = [\"match\", [\"get\", \"value\"], \"yes\", \"#43a2ca\", NODATA_COLOR]\n",
    "LEGEND_YES_NO = {\n",
    "    \"type\": \"basic\",\n",
    "    \"items\": [\n",
    "        {\"color\": \"#43a2ca\", \"label\": \"yes\", \"value\": \"yes\"},\n",
    "        {\"color\": NODATA_COLOR, \"label\": \"no\", \"value\": \"no\"},\n",
    "    ],\n",
    "}\n",
    "COLOR_STYLE_LOW_HIGH = [\n",
    "    \"match\",\n",
    "    [\"get\", \"value\"],\n",
    "    \"Low\",\n",
    "    \"#ffeda0\",\n",
    "    \"Medium\",\n",
    "    \"#feb24c\",\n",
    "    \"High\",\n",
    "    \"#f03b20\",\n",
    "    NODATA_COLOR,\n",
    "]\n",
    "LEGEND_LOW_HIGH = {\n",
    "    \"type\": \"basic\",\n",
    "    \"items\": [\n",
    "        {\"color\": \"#ffeda0\", \"label\": \"Low\", \"value\": \"Low\"},\n",
    "        {\"color\": \"#feb24c\", \"label\": \"Medium\", \"value\": \"Medium\"},\n",
    "        {\"color\": \"#f03b20\", \"label\": \"High\", \"value\": \"High\"},\n",
    "        {\"color\": NODATA_COLOR, \"label\": \"No Data\", \"value\": \"No Data\"},\n",
    "    ],\n",
    "}\n",
    "\n",
    "GRADIENT_MIN_COLOR, GRADIENT_MAX_COLOR = \"#deebf7\", \"#3182bd\"\n",
    "\n",
    "\n",
    "def continuous_style(min_val, max_val) -> list:\n",
    "    \"\"\"Mapbox style for continuous data\"\"\"\n",
    "    return [\n",
    "        \"case\",\n",
    "        [\"all\", [\"has\", \"value\"], [\"==\", [\"typeof\", [\"get\", \"value\"]], \"number\"]],\n",
    "        [\n",
    "            \"interpolate\",\n",
    "            [\"linear\"],\n",
    "            [\"get\", \"value\"],\n",
    "            min_val,\n",
    "            GRADIENT_MIN_COLOR,\n",
    "            max_val,\n",
    "            GRADIENT_MAX_COLOR,\n",
    "        ],\n",
    "        \"#999999\",\n",
    "    ]\n",
    "\n",
    "\n",
    "def continuous_legend(min_val, max_val) -> dict:\n",
    "    \"\"\"Legend style for continuous data\"\"\"\n",
    "    legend = {\n",
    "        \"type\": \"gradient\",\n",
    "        \"items\": [\n",
    "            {\"color\": GRADIENT_MIN_COLOR, \"label\": round(min_val, 2), \"value\": round(min_val, 2)},\n",
    "            {\"color\": GRADIENT_MAX_COLOR, \"label\": round(max_val, 2), \"value\": round(max_val, 2)},\n",
    "        ],\n",
    "    }\n",
    "    return legend\n",
    "\n",
    "\n",
    "def layer_entry_data(name: str, color_style, legend_config, dataset_id) -> dict:\n",
    "    \"\"\"build all the json for layer\"\"\"\n",
    "    data = {\n",
    "        \"name\": name,\n",
    "        \"type\": \"countries\",\n",
    "        \"config\": {\n",
    "            \"styles\": [\n",
    "                {\n",
    "                    \"id\": name.lower().replace(\" \", \"-\"),\n",
    "                    \"type\": \"fill\",\n",
    "                    \"paint\": {\"fill-color\": color_style, \"fill-opacity\": \"@@#params.opacity\"},\n",
    "                    \"layout\": {\n",
    "                        \"visibility\": {\"v\": \"@@#params.visibility\", \"@@function\": \"setVisibility\"}\n",
    "                    },\n",
    "                }\n",
    "            ]\n",
    "        },\n",
    "        \"params_config\": [{\"key\": \"opacity\", \"default\": 1}, {\"key\": \"visibility\", \"default\": True}],\n",
    "        \"legend_config\": legend_config,\n",
    "        \"interaction_config\": {},\n",
    "        \"dataset\": dataset_id,\n",
    "    }\n",
    "    return data"
   ]
  },
  {
   "cell_type": "code",
   "execution_count": null,
   "id": "4c2081ae1aacae52",
   "metadata": {
    "collapsed": false
   },
   "outputs": [],
   "source": [
    "dataset_ids = get_ids(\"datasets\")\n",
    "print(dataset_ids)"
   ]
  },
  {
   "cell_type": "code",
   "execution_count": null,
   "id": "8681c1d95493974c",
   "metadata": {
    "collapsed": false
   },
   "outputs": [],
   "source": [
    "entries = []\n",
    "for row in datasets_info.iter_rows(named=True):\n",
    "    if row[\"Type\"] == \"continuous\":\n",
    "        min_val = data.select(row[\"ID\"]).to_series().min()\n",
    "        max_val = data.select(row[\"ID\"]).to_series().max()\n",
    "        entries.append(\n",
    "            layer_entry_data(\n",
    "                row[\"name\"],\n",
    "                continuous_style(min_val, max_val),\n",
    "                continuous_legend(min_val, max_val),\n",
    "                dataset_ids[row[\"name\"]],\n",
    "            )\n",
    "        )\n",
    "    else:\n",
    "        # find out if yes no or low high\n",
    "        is_yes_no = \"yes\" in data.select(row[\"ID\"]).unique().to_series().to_list()\n",
    "        entries.append(\n",
    "            layer_entry_data(\n",
    "                row[\"name\"],\n",
    "                COLOR_STYLE_YES_NO if is_yes_no else COLOR_STYLE_LOW_HIGH,\n",
    "                LEGEND_YES_NO if is_yes_no else LEGEND_LOW_HIGH,\n",
    "                dataset_ids[row[\"name\"]],\n",
    "            )\n",
    "        )"
   ]
  },
  {
   "cell_type": "code",
   "execution_count": null,
   "id": "d0a17b731fcdf6af",
   "metadata": {
    "collapsed": false
   },
   "outputs": [],
   "source": [
    "with open(\"layers.json\", \"w\") as f:\n",
    "    json.dump(entries, f)"
   ]
  }
 ],
 "metadata": {
  "kernelspec": {
   "display_name": "Python 3",
   "language": "python",
   "name": "python3"
  },
  "language_info": {
   "codemirror_mode": {
    "name": "ipython",
    "version": 2
   },
   "file_extension": ".py",
   "mimetype": "text/x-python",
   "name": "python",
   "nbconvert_exporter": "python",
   "pygments_lexer": "ipython2",
   "version": "2.7.6"
  }
 },
 "nbformat": 4,
 "nbformat_minor": 5
}
