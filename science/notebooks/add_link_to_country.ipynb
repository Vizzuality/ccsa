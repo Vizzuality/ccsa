{
 "cells": [
  {
   "cell_type": "code",
   "id": "initial_id",
   "metadata": {
    "collapsed": true,
    "ExecuteTime": {
     "end_time": "2024-04-23T08:57:44.129873Z",
     "start_time": "2024-04-23T08:57:44.061316Z"
    }
   },
   "source": [
    "import json\n",
    "\n",
    "import polars as pl"
   ],
   "outputs": [],
   "execution_count": 1
  },
  {
   "cell_type": "code",
   "id": "aca2967dc6222f28",
   "metadata": {
    "ExecuteTime": {
     "end_time": "2024-04-23T08:57:47.542200Z",
     "start_time": "2024-04-23T08:57:47.476991Z"
    }
   },
   "source": [
    "with open(\"../data/phase2/countries.json\", \"r\") as f:\n",
    "    d = json.load(f)\n",
    "\n",
    "df = pl.read_excel(\"../data/phase2/Country Profiles Web Addresses.xlsx\")\n",
    "df.head()"
   ],
   "outputs": [
    {
     "data": {
      "text/plain": [
       "shape: (5, 3)\n",
       "┌───────────────────────────────────┬──────┬──────────────────────────────────┐\n",
       "│ Web Address Country Profiles      ┆ iso3 ┆ country name                     │\n",
       "│ ---                               ┆ ---  ┆ ---                              │\n",
       "│ str                               ┆ str  ┆ str                              │\n",
       "╞═══════════════════════════════════╪══════╪══════════════════════════════════╡\n",
       "│ https://www.caribbeanaccelerator… ┆ ABW  ┆ Aruba                            │\n",
       "│ https://www.caribbeanaccelerator… ┆ AIA  ┆ Anguilla                         │\n",
       "│ https://www.caribbeanaccelerator… ┆ ATG  ┆ Antigua and Barbuda              │\n",
       "│ https://www.caribbeanaccelerator… ┆ BES  ┆ Bonaire, Sint Eustatius and Saba │\n",
       "│ https://www.caribbeanaccelerator… ┆ BHS  ┆ Bahamas                          │\n",
       "└───────────────────────────────────┴──────┴──────────────────────────────────┘"
      ],
      "text/html": [
       "<div><style>\n",
       ".dataframe > thead > tr,\n",
       ".dataframe > tbody > tr {\n",
       "  text-align: right;\n",
       "  white-space: pre-wrap;\n",
       "}\n",
       "</style>\n",
       "<small>shape: (5, 3)</small><table border=\"1\" class=\"dataframe\"><thead><tr><th>Web Address Country Profiles</th><th>iso3</th><th>country name</th></tr><tr><td>str</td><td>str</td><td>str</td></tr></thead><tbody><tr><td>&quot;https://www.ca…</td><td>&quot;ABW&quot;</td><td>&quot;Aruba&quot;</td></tr><tr><td>&quot;https://www.ca…</td><td>&quot;AIA&quot;</td><td>&quot;Anguilla&quot;</td></tr><tr><td>&quot;https://www.ca…</td><td>&quot;ATG&quot;</td><td>&quot;Antigua and Ba…</td></tr><tr><td>&quot;https://www.ca…</td><td>&quot;BES&quot;</td><td>&quot;Bonaire, Sint …</td></tr><tr><td>&quot;https://www.ca…</td><td>&quot;BHS&quot;</td><td>&quot;Bahamas&quot;</td></tr></tbody></table></div>"
      ]
     },
     "execution_count": 4,
     "metadata": {},
     "output_type": "execute_result"
    }
   ],
   "execution_count": 4
  },
  {
   "cell_type": "code",
   "id": "d1a185da85961e77",
   "metadata": {
    "ExecuteTime": {
     "end_time": "2024-04-23T08:57:48.242715Z",
     "start_time": "2024-04-23T08:57:48.237873Z"
    }
   },
   "source": [
    "df.select(pl.struct(pl.col(\"Web Address Country Profiles\"), pl.col(\"iso3\"))).to_dict(\n",
    "    as_series=False\n",
    ")"
   ],
   "outputs": [
    {
     "data": {
      "text/plain": [
       "{'Web Address Country Profiles': [{'Web Address Country Profiles': 'https://www.caribbeanaccelerator.org/abw/',\n",
       "   'iso3': 'ABW'},\n",
       "  {'Web Address Country Profiles': 'https://www.caribbeanaccelerator.org/aia/',\n",
       "   'iso3': 'AIA'},\n",
       "  {'Web Address Country Profiles': 'https://www.caribbeanaccelerator.org/atg/',\n",
       "   'iso3': 'ATG'},\n",
       "  {'Web Address Country Profiles': 'https://www.caribbeanaccelerator.org/abes/',\n",
       "   'iso3': 'BES'},\n",
       "  {'Web Address Country Profiles': 'https://www.caribbeanaccelerator.org/bhs/',\n",
       "   'iso3': 'BHS'},\n",
       "  {'Web Address Country Profiles': 'https://www.caribbeanaccelerator.org/blz/',\n",
       "   'iso3': 'BLZ'},\n",
       "  {'Web Address Country Profiles': 'https://www.caribbeanaccelerator.org/bmu/',\n",
       "   'iso3': 'BMU'},\n",
       "  {'Web Address Country Profiles': 'https://www.caribbeanaccelerator.org/brb/',\n",
       "   'iso3': 'BRB'},\n",
       "  {'Web Address Country Profiles': 'https://www.caribbeanaccelerator.org/cri/',\n",
       "   'iso3': 'CRI'},\n",
       "  {'Web Address Country Profiles': 'https://www.caribbeanaccelerator.org/cuw/',\n",
       "   'iso3': 'CUW'},\n",
       "  {'Web Address Country Profiles': 'https://www.caribbeanaccelerator.org/cym/',\n",
       "   'iso3': 'CYM'},\n",
       "  {'Web Address Country Profiles': 'https://www.caribbeanaccelerator.org/dma/',\n",
       "   'iso3': 'DMA'},\n",
       "  {'Web Address Country Profiles': 'https://www.caribbeanaccelerator.org/dom/',\n",
       "   'iso3': 'DOM'},\n",
       "  {'Web Address Country Profiles': 'https://www.caribbeanaccelerator.org/glp/',\n",
       "   'iso3': 'GLP'},\n",
       "  {'Web Address Country Profiles': 'https://www.caribbeanaccelerator.org/grd/',\n",
       "   'iso3': 'GRD'},\n",
       "  {'Web Address Country Profiles': 'https://www.caribbeanaccelerator.org/guy/',\n",
       "   'iso3': 'GUY'},\n",
       "  {'Web Address Country Profiles': 'https://www.caribbeanaccelerator.org/hnd/',\n",
       "   'iso3': 'HND'},\n",
       "  {'Web Address Country Profiles': 'https://www.caribbeanaccelerator.org/hti/',\n",
       "   'iso3': 'HTI'},\n",
       "  {'Web Address Country Profiles': 'https://www.caribbeanaccelerator.org/jam/',\n",
       "   'iso3': 'JAM'},\n",
       "  {'Web Address Country Profiles': 'https://www.caribbeanaccelerator.org/kna/',\n",
       "   'iso3': 'KNA'},\n",
       "  {'Web Address Country Profiles': 'https://www.caribbeanaccelerator.org/lca/',\n",
       "   'iso3': 'LCA'},\n",
       "  {'Web Address Country Profiles': 'https://www.caribbeanaccelerator.org/mex/',\n",
       "   'iso3': 'MEX'},\n",
       "  {'Web Address Country Profiles': 'https://www.caribbeanaccelerator.org/msr/',\n",
       "   'iso3': 'MSR'},\n",
       "  {'Web Address Country Profiles': 'https://www.caribbeanaccelerator.org/pan/',\n",
       "   'iso3': 'PAN'},\n",
       "  {'Web Address Country Profiles': 'https://www.caribbeanaccelerator.org/sur/',\n",
       "   'iso3': 'SUR'},\n",
       "  {'Web Address Country Profiles': 'https://www.caribbeanaccelerator.org/tca/',\n",
       "   'iso3': 'TCA'},\n",
       "  {'Web Address Country Profiles': 'https://www.caribbeanaccelerator.org/tto/',\n",
       "   'iso3': 'TTO'},\n",
       "  {'Web Address Country Profiles': 'https://www.caribbeanaccelerator.org/vct/',\n",
       "   'iso3': 'VCT'},\n",
       "  {'Web Address Country Profiles': 'https://www.caribbeanaccelerator.org/vgb/',\n",
       "   'iso3': 'VGB'},\n",
       "  {'Web Address Country Profiles': 'https://www.caribbeanaccelerator.org/vir/',\n",
       "   'iso3': 'VIR'}]}"
      ]
     },
     "execution_count": 5,
     "metadata": {},
     "output_type": "execute_result"
    }
   ],
   "execution_count": 5
  },
  {
   "cell_type": "code",
   "id": "626aa293c86976d0",
   "metadata": {
    "ExecuteTime": {
     "end_time": "2024-04-23T09:00:07.328272Z",
     "start_time": "2024-04-23T09:00:07.309529Z"
    }
   },
   "source": [
    "links = {  # noqa: C416\n",
    "    k: v\n",
    "    for k, v in df.select(\n",
    "        \"iso3\",\n",
    "        \"Web Address Country Profiles\",\n",
    "    ).iter_rows()\n",
    "}"
   ],
   "outputs": [
    {
     "ename": "ValueError",
     "evalue": "dictionary update sequence element #0 has length 1; 2 is required",
     "output_type": "error",
     "traceback": [
      "\u001B[0;31m---------------------------------------------------------------------------\u001B[0m",
      "\u001B[0;31mValueError\u001B[0m                                Traceback (most recent call last)",
      "Cell \u001B[0;32mIn[14], line 1\u001B[0m\n\u001B[0;32m----> 1\u001B[0m links \u001B[38;5;241m=\u001B[39m \u001B[38;5;28;43mdict\u001B[39;49m\u001B[43m(\u001B[49m\u001B[38;5;28;43mzip\u001B[39;49m\u001B[43m(\u001B[49m\u001B[43m(\u001B[49m\u001B[43mk\u001B[49m\u001B[43m,\u001B[49m\u001B[43m \u001B[49m\u001B[43mv\u001B[49m\u001B[43m)\u001B[49m\u001B[43m \u001B[49m\u001B[38;5;28;43;01mfor\u001B[39;49;00m\u001B[43m \u001B[49m\u001B[43mk\u001B[49m\u001B[43m,\u001B[49m\u001B[43m \u001B[49m\u001B[43mv\u001B[49m\u001B[43m \u001B[49m\u001B[38;5;129;43;01min\u001B[39;49;00m\u001B[43m \u001B[49m\u001B[43mdf\u001B[49m\u001B[38;5;241;43m.\u001B[39;49m\u001B[43mselect\u001B[49m\u001B[43m(\u001B[49m\u001B[38;5;124;43m\"\u001B[39;49m\u001B[38;5;124;43miso3\u001B[39;49m\u001B[38;5;124;43m\"\u001B[39;49m\u001B[43m,\u001B[49m\u001B[43m \u001B[49m\u001B[38;5;124;43m\"\u001B[39;49m\u001B[38;5;124;43mWeb Address Country Profiles\u001B[39;49m\u001B[38;5;124;43m\"\u001B[39;49m\u001B[43m)\u001B[49m\u001B[38;5;241;43m.\u001B[39;49m\u001B[43miter_rows\u001B[49m\u001B[43m(\u001B[49m\u001B[43m)\u001B[49m\u001B[43m)\u001B[49m\u001B[43m)\u001B[49m\n",
      "\u001B[0;31mValueError\u001B[0m: dictionary update sequence element #0 has length 1; 2 is required"
     ]
    }
   ],
   "execution_count": 14
  },
  {
   "cell_type": "code",
   "execution_count": 40,
   "id": "f3ddc169c7a730a2",
   "metadata": {
    "ExecuteTime": {
     "end_time": "2024-04-22T10:53:31.672573Z",
     "start_time": "2024-04-22T10:53:31.669294Z"
    }
   },
   "outputs": [],
   "source": [
    "for country_id in d[\"data\"][\"api::country.country\"].keys():\n",
    "    country = d[\"data\"][\"api::country.country\"][country_id]\n",
    "    country[\"link\"] = links.get(country[\"iso3\"])"
   ]
  },
  {
   "cell_type": "code",
   "execution_count": 42,
   "id": "3e47e347beb8ca68",
   "metadata": {
    "ExecuteTime": {
     "end_time": "2024-04-22T10:54:42.021899Z",
     "start_time": "2024-04-22T10:54:41.789154Z"
    }
   },
   "outputs": [],
   "source": [
    "with open(\"../data/phase2/countries_link.json\", \"w\") as f:\n",
    "    json.dump(d, f, indent=4)"
   ]
  }
 ],
 "metadata": {
  "kernelspec": {
   "display_name": "Python 3",
   "language": "python",
   "name": "python3"
  },
  "language_info": {
   "codemirror_mode": {
    "name": "ipython",
    "version": 2
   },
   "file_extension": ".py",
   "mimetype": "text/x-python",
   "name": "python",
   "nbconvert_exporter": "python",
   "pygments_lexer": "ipython2",
   "version": "2.7.6"
  }
 },
 "nbformat": 4,
 "nbformat_minor": 5
}
